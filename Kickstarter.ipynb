{
 "cells": [
  {
   "cell_type": "code",
   "execution_count": 1,
   "source": [
    "import pandas as pd\n",
    "import numpy as np\n",
    "import warnings\n",
    "import matplotlib.pyplot as plt\n",
    "import seaborn as sns\n",
    "from pandas_profiling import ProfileReport\n",
    "\n",
    "from sklearn.model_selection import train_test_split\n",
    "from sklearn.tree import DecisionTreeClassifier\n",
    "from sklearn.metrics import f1_score, accuracy_score, confusion_matrix\n",
    "\n",
    "import imblearn\n",
    "from imblearn.over_sampling import RandomOverSampler\n",
    "\n",
    "from sklearn.svm import SVC\n",
    "\n",
    "%matplotlib inline\n",
    "RSEED = 42\n",
    "\n"
   ],
   "outputs": [
    {
     "output_type": "stream",
     "name": "stderr",
     "text": [
      "/Users/fklein/neuefische/day28_20211103_2nd_project/Kickstarter_project/.venv/lib/python3.9/site-packages/pandas/compat/__init__.py:124: UserWarning: Could not import the lzma module. Your installed Python is incomplete. Attempting to use lzma compression will result in a RuntimeError.\n",
      "  warnings.warn(msg)\n"
     ]
    }
   ],
   "metadata": {}
  },
  {
   "cell_type": "code",
   "execution_count": 2,
   "source": [
    "df_raw = pd.read_csv('data/data/Kickstarter000.csv')\n",
    "for i in range(1, 55):\n",
    "    filename = 'data/data/Kickstarter0' + str(i).zfill(2) + '.csv'\n",
    "    tt = pd.read_csv(filename)\n",
    "    df_raw = pd.concat([df_raw, tt], axis=0)\n",
    "df_raw.info()"
   ],
   "outputs": [
    {
     "output_type": "stream",
     "name": "stdout",
     "text": [
      "<class 'pandas.core.frame.DataFrame'>\n",
      "Int64Index: 208257 entries, 0 to 3792\n",
      "Data columns (total 37 columns):\n",
      " #   Column                    Non-Null Count   Dtype  \n",
      "---  ------                    --------------   -----  \n",
      " 0   backers_count             208257 non-null  int64  \n",
      " 1   blurb                     208249 non-null  object \n",
      " 2   category                  208257 non-null  object \n",
      " 3   converted_pledged_amount  208257 non-null  int64  \n",
      " 4   country                   208257 non-null  object \n",
      " 5   created_at                208257 non-null  int64  \n",
      " 6   creator                   208257 non-null  object \n",
      " 7   currency                  208257 non-null  object \n",
      " 8   currency_symbol           208257 non-null  object \n",
      " 9   currency_trailing_code    208257 non-null  bool   \n",
      " 10  current_currency          208257 non-null  object \n",
      " 11  deadline                  208257 non-null  int64  \n",
      " 12  disable_communication     208257 non-null  bool   \n",
      " 13  friends                   300 non-null     object \n",
      " 14  fx_rate                   208257 non-null  float64\n",
      " 15  goal                      208257 non-null  float64\n",
      " 16  id                        208257 non-null  int64  \n",
      " 17  is_backing                300 non-null     object \n",
      " 18  is_starrable              208257 non-null  bool   \n",
      " 19  is_starred                300 non-null     object \n",
      " 20  launched_at               208257 non-null  int64  \n",
      " 21  location                  208031 non-null  object \n",
      " 22  name                      208257 non-null  object \n",
      " 23  permissions               300 non-null     object \n",
      " 24  photo                     208257 non-null  object \n",
      " 25  pledged                   208257 non-null  float64\n",
      " 26  profile                   208257 non-null  object \n",
      " 27  slug                      208257 non-null  object \n",
      " 28  source_url                208257 non-null  object \n",
      " 29  spotlight                 208257 non-null  bool   \n",
      " 30  staff_pick                208257 non-null  bool   \n",
      " 31  state                     208257 non-null  object \n",
      " 32  state_changed_at          208257 non-null  int64  \n",
      " 33  static_usd_rate           208257 non-null  float64\n",
      " 34  urls                      208257 non-null  object \n",
      " 35  usd_pledged               208257 non-null  float64\n",
      " 36  usd_type                  207778 non-null  object \n",
      "dtypes: bool(5), float64(5), int64(7), object(20)\n",
      "memory usage: 53.4+ MB\n"
     ]
    }
   ],
   "metadata": {}
  },
  {
   "cell_type": "code",
   "execution_count": 3,
   "source": [
    "df_raw.columns"
   ],
   "outputs": [
    {
     "output_type": "execute_result",
     "data": {
      "text/plain": [
       "Index(['backers_count', 'blurb', 'category', 'converted_pledged_amount',\n",
       "       'country', 'created_at', 'creator', 'currency', 'currency_symbol',\n",
       "       'currency_trailing_code', 'current_currency', 'deadline',\n",
       "       'disable_communication', 'friends', 'fx_rate', 'goal', 'id',\n",
       "       'is_backing', 'is_starrable', 'is_starred', 'launched_at', 'location',\n",
       "       'name', 'permissions', 'photo', 'pledged', 'profile', 'slug',\n",
       "       'source_url', 'spotlight', 'staff_pick', 'state', 'state_changed_at',\n",
       "       'static_usd_rate', 'urls', 'usd_pledged', 'usd_type'],\n",
       "      dtype='object')"
      ]
     },
     "metadata": {},
     "execution_count": 3
    }
   ],
   "metadata": {}
  },
  {
   "cell_type": "code",
   "execution_count": 4,
   "source": [
    "#df_raw"
   ],
   "outputs": [],
   "metadata": {}
  },
  {
   "cell_type": "code",
   "execution_count": 5,
   "source": [
    "df = df_raw[['blurb', 'category','country', 'created_at', \n",
    "       'currency','deadline', 'goal', 'id',\n",
    "       'launched_at', 'location','name', 'slug',\n",
    "       'source_url', 'state', \n",
    "       'urls', 'usd_pledged']]"
   ],
   "outputs": [],
   "metadata": {}
  },
  {
   "cell_type": "code",
   "execution_count": 6,
   "source": [
    "df.dropna(axis=0, inplace=True)"
   ],
   "outputs": [
    {
     "output_type": "stream",
     "name": "stderr",
     "text": [
      "/Users/fklein/neuefische/day28_20211103_2nd_project/Kickstarter_project/.venv/lib/python3.9/site-packages/pandas/util/_decorators.py:311: SettingWithCopyWarning: \n",
      "A value is trying to be set on a copy of a slice from a DataFrame\n",
      "\n",
      "See the caveats in the documentation: https://pandas.pydata.org/pandas-docs/stable/user_guide/indexing.html#returning-a-view-versus-a-copy\n",
      "  return func(*args, **kwargs)\n"
     ]
    }
   ],
   "metadata": {}
  },
  {
   "cell_type": "code",
   "execution_count": 7,
   "source": [
    "# Duration the the project was online\n",
    "df.eval('duration = (deadline - launched_at)/3600/24', inplace=True)\n",
    "# Time between project creation and launchin\n",
    "df.eval('duration_start_launch = (launched_at - created_at)/3600/24', inplace=True)\n",
    "df.drop(['deadline', 'created_at', 'launched_at'], axis=1, inplace=True)\n",
    "#df.head()"
   ],
   "outputs": [
    {
     "output_type": "stream",
     "name": "stderr",
     "text": [
      "/Users/fklein/neuefische/day28_20211103_2nd_project/Kickstarter_project/.venv/lib/python3.9/site-packages/pandas/core/frame.py:4906: SettingWithCopyWarning: \n",
      "A value is trying to be set on a copy of a slice from a DataFrame\n",
      "\n",
      "See the caveats in the documentation: https://pandas.pydata.org/pandas-docs/stable/user_guide/indexing.html#returning-a-view-versus-a-copy\n",
      "  return super().drop(\n"
     ]
    }
   ],
   "metadata": {}
  },
  {
   "cell_type": "code",
   "execution_count": 8,
   "source": [
    "# Extract category nae\n",
    "import json\n",
    "df['category_name'] = df['category'].apply(lambda x : json.loads(x)['name'])\n",
    "df.drop('category', axis=1, inplace=True)\n",
    "#df.head()"
   ],
   "outputs": [
    {
     "output_type": "stream",
     "name": "stderr",
     "text": [
      "/var/folders/z6/20813vb106nfz9y_jy2g9srm0000gn/T/ipykernel_84155/4201644507.py:3: SettingWithCopyWarning: \n",
      "A value is trying to be set on a copy of a slice from a DataFrame.\n",
      "Try using .loc[row_indexer,col_indexer] = value instead\n",
      "\n",
      "See the caveats in the documentation: https://pandas.pydata.org/pandas-docs/stable/user_guide/indexing.html#returning-a-view-versus-a-copy\n",
      "  df['category_name'] = df['category'].apply(lambda x : json.loads(x)['name'])\n"
     ]
    }
   ],
   "metadata": {}
  },
  {
   "cell_type": "code",
   "execution_count": 9,
   "source": [
    "# Get name length\n",
    "df['name_length'] = df['name'].apply(lambda x : len(x.split(' ')))\n",
    "df.drop('name', axis=1, inplace=True)"
   ],
   "outputs": [
    {
     "output_type": "stream",
     "name": "stderr",
     "text": [
      "/var/folders/z6/20813vb106nfz9y_jy2g9srm0000gn/T/ipykernel_84155/2960411482.py:2: SettingWithCopyWarning: \n",
      "A value is trying to be set on a copy of a slice from a DataFrame.\n",
      "Try using .loc[row_indexer,col_indexer] = value instead\n",
      "\n",
      "See the caveats in the documentation: https://pandas.pydata.org/pandas-docs/stable/user_guide/indexing.html#returning-a-view-versus-a-copy\n",
      "  df['name_length'] = df['name'].apply(lambda x : len(x.split(' ')))\n"
     ]
    }
   ],
   "metadata": {}
  },
  {
   "cell_type": "code",
   "execution_count": 10,
   "source": [
    "df['blurb_length'] = df['blurb'].apply(lambda x : len(x.split(' ')))\n",
    "df.drop('blurb', axis=1, inplace=True)"
   ],
   "outputs": [
    {
     "output_type": "stream",
     "name": "stderr",
     "text": [
      "/var/folders/z6/20813vb106nfz9y_jy2g9srm0000gn/T/ipykernel_84155/3027176886.py:1: SettingWithCopyWarning: \n",
      "A value is trying to be set on a copy of a slice from a DataFrame.\n",
      "Try using .loc[row_indexer,col_indexer] = value instead\n",
      "\n",
      "See the caveats in the documentation: https://pandas.pydata.org/pandas-docs/stable/user_guide/indexing.html#returning-a-view-versus-a-copy\n",
      "  df['blurb_length'] = df['blurb'].apply(lambda x : len(x.split(' ')))\n"
     ]
    }
   ],
   "metadata": {}
  },
  {
   "cell_type": "code",
   "execution_count": 11,
   "source": [
    "# Extract city name\n",
    "df['city'] = df['location'].map(lambda x : (x.split('\"'))[5])\n",
    "df.drop('location', axis=1, inplace=True)"
   ],
   "outputs": [
    {
     "output_type": "stream",
     "name": "stderr",
     "text": [
      "/var/folders/z6/20813vb106nfz9y_jy2g9srm0000gn/T/ipykernel_84155/1543756393.py:2: SettingWithCopyWarning: \n",
      "A value is trying to be set on a copy of a slice from a DataFrame.\n",
      "Try using .loc[row_indexer,col_indexer] = value instead\n",
      "\n",
      "See the caveats in the documentation: https://pandas.pydata.org/pandas-docs/stable/user_guide/indexing.html#returning-a-view-versus-a-copy\n",
      "  df['city'] = df['location'].map(lambda x : (x.split('\"'))[5])\n"
     ]
    }
   ],
   "metadata": {}
  },
  {
   "cell_type": "code",
   "execution_count": 12,
   "source": [
    "df['successful'] = (df['state'] == 'successful').astype(int)\n",
    "df = df[~df['state'].isin(['canceled', 'live', 'suspended'])]\n",
    "df.drop('state', axis=1, inplace=True)"
   ],
   "outputs": [
    {
     "output_type": "stream",
     "name": "stderr",
     "text": [
      "/var/folders/z6/20813vb106nfz9y_jy2g9srm0000gn/T/ipykernel_84155/1761087603.py:1: SettingWithCopyWarning: \n",
      "A value is trying to be set on a copy of a slice from a DataFrame.\n",
      "Try using .loc[row_indexer,col_indexer] = value instead\n",
      "\n",
      "See the caveats in the documentation: https://pandas.pydata.org/pandas-docs/stable/user_guide/indexing.html#returning-a-view-versus-a-copy\n",
      "  df['successful'] = (df['state'] == 'successful').astype(int)\n"
     ]
    }
   ],
   "metadata": {}
  },
  {
   "cell_type": "markdown",
   "source": [
    "## Data cleaning\n",
    "Removing duplicate rows, removing outliers, ..."
   ],
   "metadata": {}
  },
  {
   "cell_type": "code",
   "execution_count": 13,
   "source": [
    "df.info()"
   ],
   "outputs": [
    {
     "output_type": "stream",
     "name": "stdout",
     "text": [
      "<class 'pandas.core.frame.DataFrame'>\n",
      "Int64Index: 191573 entries, 0 to 3792\n",
      "Data columns (total 15 columns):\n",
      " #   Column                 Non-Null Count   Dtype  \n",
      "---  ------                 --------------   -----  \n",
      " 0   country                191573 non-null  object \n",
      " 1   currency               191573 non-null  object \n",
      " 2   goal                   191573 non-null  float64\n",
      " 3   id                     191573 non-null  int64  \n",
      " 4   slug                   191573 non-null  object \n",
      " 5   source_url             191573 non-null  object \n",
      " 6   urls                   191573 non-null  object \n",
      " 7   usd_pledged            191573 non-null  float64\n",
      " 8   duration               191573 non-null  float64\n",
      " 9   duration_start_launch  191573 non-null  float64\n",
      " 10  category_name          191573 non-null  object \n",
      " 11  name_length            191573 non-null  int64  \n",
      " 12  blurb_length           191573 non-null  int64  \n",
      " 13  city                   191573 non-null  object \n",
      " 14  successful             191573 non-null  int64  \n",
      "dtypes: float64(4), int64(4), object(7)\n",
      "memory usage: 23.4+ MB\n"
     ]
    }
   ],
   "metadata": {}
  },
  {
   "cell_type": "code",
   "execution_count": 14,
   "source": [
    "df_drop_dup = df.drop_duplicates(subset='id', keep='last')\n",
    "#df_drop_dup.info()"
   ],
   "outputs": [],
   "metadata": {}
  },
  {
   "cell_type": "code",
   "execution_count": 15,
   "source": [
    "df_drop_dup = df_drop_dup[df_drop_dup['name_length'] <= 20]"
   ],
   "outputs": [],
   "metadata": {}
  },
  {
   "cell_type": "code",
   "execution_count": 16,
   "source": [
    "#df_drop_dup['blurb_length'].hist()\n",
    "df_drop_dup = df_drop_dup[df_drop_dup['blurb_length'] <= 40]"
   ],
   "outputs": [],
   "metadata": {}
  },
  {
   "cell_type": "code",
   "execution_count": 17,
   "source": [
    "#df_drop_dup['goal'].hist()\n",
    "df_drop_dup = df_drop_dup[df_drop_dup['goal'] <= 10000000]"
   ],
   "outputs": [],
   "metadata": {}
  },
  {
   "cell_type": "code",
   "execution_count": 18,
   "source": [
    "df_drop_dup = df_drop_dup[df_drop_dup['duration_start_launch'] <= 1000]"
   ],
   "outputs": [],
   "metadata": {}
  },
  {
   "cell_type": "code",
   "execution_count": 19,
   "source": [
    "df_dummies = pd.get_dummies(df_drop_dup, columns=['country', 'currency', 'category_name'], drop_first=True)"
   ],
   "outputs": [],
   "metadata": {}
  },
  {
   "cell_type": "code",
   "execution_count": 20,
   "source": [
    "features_dummies = list(df_dummies.columns)\n",
    "features = list(df.columns)\n",
    "for i in ['id', 'slug', 'source_url', 'urls',\n",
    "        'usd_pledged', 'city']:\n",
    "    features_dummies.remove(i)\n",
    "    features.remove(i)"
   ],
   "outputs": [],
   "metadata": {}
  },
  {
   "cell_type": "markdown",
   "source": [
    "## Profile report"
   ],
   "metadata": {}
  },
  {
   "cell_type": "code",
   "execution_count": 21,
   "source": [
    "#from pandas_profiling import ProfileReport\n",
    "##profile = ProfileReport(df[features], title=\"Pandas Profiling Report\", explorative=True)\n",
    "#profile"
   ],
   "outputs": [],
   "metadata": {}
  },
  {
   "cell_type": "markdown",
   "source": [
    "## Baseline model"
   ],
   "metadata": {}
  },
  {
   "cell_type": "markdown",
   "source": [
    "## Simple Decision Tree Model"
   ],
   "metadata": {}
  },
  {
   "cell_type": "code",
   "execution_count": 23,
   "source": [
    "%run Helper_methods.ipynb    "
   ],
   "outputs": [],
   "metadata": {}
  },
  {
   "cell_type": "code",
   "execution_count": 24,
   "source": [
    "X = df[['name_length']]\n",
    "y = np.array(df['successful'])\n",
    "train, test, train_label, test_label = train_test_split(X, y, stratify=y, \n",
    "                    random_state=RSEED, test_size=0.3)"
   ],
   "outputs": [],
   "metadata": {}
  },
  {
   "cell_type": "code",
   "execution_count": 25,
   "source": [
    "from sklearn.tree import DecisionTreeClassifier\n",
    "clf = DecisionTreeClassifier()\n",
    "clf.fit(train, train_label)\n",
    "y_pred = clf.predict(test)"
   ],
   "outputs": [],
   "metadata": {}
  },
  {
   "cell_type": "code",
   "execution_count": 26,
   "source": [
    "print('accuracy_score', accuracy_score(test_label, y_pred))\n",
    "print('f1-score', f1_score(test_label, y_pred))\n",
    "cm = confusion_matrix(test_label, y_pred)\n",
    "print(cm)\n",
    "plot_confusion_matrix(\n",
    "    cm, classes=['Fail', 'Success'], \n",
    "    title='Success of Kickstarter projects (Tree)'\n",
    ")"
   ],
   "outputs": [
    {
     "output_type": "stream",
     "name": "stdout",
     "text": [
      "accuracy_score 0.6160913140311804\n",
      "f1-score 0.7419958371337029\n",
      "[[ 3681 18780]\n",
      " [ 3284 31727]]\n",
      "Confusion matrix, without normalization\n",
      "[[ 3681 18780]\n",
      " [ 3284 31727]]\n"
     ]
    },
    {
     "output_type": "display_data",
     "data": {
      "image/png": "[encoded data removed]",
      "text/plain": [
       "<Figure size 720x720 with 2 Axes>"
      ]
     },
     "metadata": {
      "needs_background": "light"
     }
    }
   ],
   "metadata": {}
  },
  {
   "cell_type": "markdown",
   "source": [
    "## Correct imbalance"
   ],
   "metadata": {}
  },
  {
   "cell_type": "code",
   "execution_count": 27,
   "source": [
    "X = df_dummies[features_dummies].drop('successful',axis=1)\n",
    "y = np.array(df_dummies['successful'])"
   ],
   "outputs": [],
   "metadata": {}
  },
  {
   "cell_type": "code",
   "execution_count": 28,
   "source": [
    "oversample = RandomOverSampler(sampling_strategy='minority', random_state=RSEED)\n",
    "X_over, y_over = oversample.fit_resample(X, y)\n",
    "train, test, train_label, test_label = train_test_split(X_over, y_over, stratify=y_over, \n",
    "                    random_state=RSEED, test_size=0.3)"
   ],
   "outputs": [],
   "metadata": {}
  },
  {
   "cell_type": "code",
   "execution_count": 29,
   "source": [
    "yy = pd.Series(y_over)\n",
    "df_bal = pd.concat([X_over, yy],axis=1)\n",
    "df_bal.head()"
   ],
   "outputs": [
    {
     "output_type": "execute_result",
     "data": {
      "text/html": [
       "<div>\n",
       "<style scoped>\n",
       "    .dataframe tbody tr th:only-of-type {\n",
       "        vertical-align: middle;\n",
       "    }\n",
       "\n",
       "    .dataframe tbody tr th {\n",
       "        vertical-align: top;\n",
       "    }\n",
       "\n",
       "    .dataframe thead th {\n",
       "        text-align: right;\n",
       "    }\n",
       "</style>\n",
       "<table border=\"1\" class=\"dataframe\">\n",
       "  <thead>\n",
       "    <tr style=\"text-align: right;\">\n",
       "      <th></th>\n",
       "      <th>goal</th>\n",
       "      <th>duration</th>\n",
       "      <th>duration_start_launch</th>\n",
       "      <th>name_length</th>\n",
       "      <th>blurb_length</th>\n",
       "      <th>country_AU</th>\n",
       "      <th>country_BE</th>\n",
       "      <th>country_CA</th>\n",
       "      <th>country_CH</th>\n",
       "      <th>country_DE</th>\n",
       "      <th>...</th>\n",
       "      <th>category_name_Weaving</th>\n",
       "      <th>category_name_Web</th>\n",
       "      <th>category_name_Webcomics</th>\n",
       "      <th>category_name_Webseries</th>\n",
       "      <th>category_name_Woodworking</th>\n",
       "      <th>category_name_Workshops</th>\n",
       "      <th>category_name_World Music</th>\n",
       "      <th>category_name_Young Adult</th>\n",
       "      <th>category_name_Zines</th>\n",
       "      <th>0</th>\n",
       "    </tr>\n",
       "  </thead>\n",
       "  <tbody>\n",
       "    <tr>\n",
       "      <th>0</th>\n",
       "      <td>200.0</td>\n",
       "      <td>45.000000</td>\n",
       "      <td>4.066620</td>\n",
       "      <td>4</td>\n",
       "      <td>26</td>\n",
       "      <td>0</td>\n",
       "      <td>0</td>\n",
       "      <td>0</td>\n",
       "      <td>0</td>\n",
       "      <td>0</td>\n",
       "      <td>...</td>\n",
       "      <td>0</td>\n",
       "      <td>0</td>\n",
       "      <td>0</td>\n",
       "      <td>0</td>\n",
       "      <td>0</td>\n",
       "      <td>0</td>\n",
       "      <td>0</td>\n",
       "      <td>0</td>\n",
       "      <td>0</td>\n",
       "      <td>1</td>\n",
       "    </tr>\n",
       "    <tr>\n",
       "      <th>1</th>\n",
       "      <td>1000.0</td>\n",
       "      <td>30.000000</td>\n",
       "      <td>2.459491</td>\n",
       "      <td>4</td>\n",
       "      <td>22</td>\n",
       "      <td>0</td>\n",
       "      <td>0</td>\n",
       "      <td>0</td>\n",
       "      <td>0</td>\n",
       "      <td>0</td>\n",
       "      <td>...</td>\n",
       "      <td>0</td>\n",
       "      <td>0</td>\n",
       "      <td>0</td>\n",
       "      <td>0</td>\n",
       "      <td>0</td>\n",
       "      <td>0</td>\n",
       "      <td>0</td>\n",
       "      <td>0</td>\n",
       "      <td>0</td>\n",
       "      <td>0</td>\n",
       "    </tr>\n",
       "    <tr>\n",
       "      <th>2</th>\n",
       "      <td>20000.0</td>\n",
       "      <td>10.958785</td>\n",
       "      <td>211.789410</td>\n",
       "      <td>7</td>\n",
       "      <td>22</td>\n",
       "      <td>0</td>\n",
       "      <td>0</td>\n",
       "      <td>0</td>\n",
       "      <td>0</td>\n",
       "      <td>0</td>\n",
       "      <td>...</td>\n",
       "      <td>0</td>\n",
       "      <td>0</td>\n",
       "      <td>0</td>\n",
       "      <td>0</td>\n",
       "      <td>0</td>\n",
       "      <td>0</td>\n",
       "      <td>0</td>\n",
       "      <td>0</td>\n",
       "      <td>0</td>\n",
       "      <td>0</td>\n",
       "    </tr>\n",
       "    <tr>\n",
       "      <th>3</th>\n",
       "      <td>14500.0</td>\n",
       "      <td>30.000000</td>\n",
       "      <td>45.005729</td>\n",
       "      <td>5</td>\n",
       "      <td>17</td>\n",
       "      <td>0</td>\n",
       "      <td>0</td>\n",
       "      <td>0</td>\n",
       "      <td>0</td>\n",
       "      <td>0</td>\n",
       "      <td>...</td>\n",
       "      <td>0</td>\n",
       "      <td>0</td>\n",
       "      <td>0</td>\n",
       "      <td>0</td>\n",
       "      <td>0</td>\n",
       "      <td>0</td>\n",
       "      <td>0</td>\n",
       "      <td>0</td>\n",
       "      <td>0</td>\n",
       "      <td>0</td>\n",
       "    </tr>\n",
       "    <tr>\n",
       "      <th>4</th>\n",
       "      <td>10000.0</td>\n",
       "      <td>31.000000</td>\n",
       "      <td>22.271551</td>\n",
       "      <td>1</td>\n",
       "      <td>9</td>\n",
       "      <td>0</td>\n",
       "      <td>0</td>\n",
       "      <td>0</td>\n",
       "      <td>0</td>\n",
       "      <td>0</td>\n",
       "      <td>...</td>\n",
       "      <td>0</td>\n",
       "      <td>0</td>\n",
       "      <td>0</td>\n",
       "      <td>0</td>\n",
       "      <td>0</td>\n",
       "      <td>0</td>\n",
       "      <td>0</td>\n",
       "      <td>0</td>\n",
       "      <td>0</td>\n",
       "      <td>0</td>\n",
       "    </tr>\n",
       "  </tbody>\n",
       "</table>\n",
       "<p>5 rows × 198 columns</p>\n",
       "</div>"
      ],
      "text/plain": [
       "      goal   duration  duration_start_launch  name_length  blurb_length  \\\n",
       "0    200.0  45.000000               4.066620            4            26   \n",
       "1   1000.0  30.000000               2.459491            4            22   \n",
       "2  20000.0  10.958785             211.789410            7            22   \n",
       "3  14500.0  30.000000              45.005729            5            17   \n",
       "4  10000.0  31.000000              22.271551            1             9   \n",
       "\n",
       "   country_AU  country_BE  country_CA  country_CH  country_DE  ...  \\\n",
       "0           0           0           0           0           0  ...   \n",
       "1           0           0           0           0           0  ...   \n",
       "2           0           0           0           0           0  ...   \n",
       "3           0           0           0           0           0  ...   \n",
       "4           0           0           0           0           0  ...   \n",
       "\n",
       "   category_name_Weaving  category_name_Web  category_name_Webcomics  \\\n",
       "0                      0                  0                        0   \n",
       "1                      0                  0                        0   \n",
       "2                      0                  0                        0   \n",
       "3                      0                  0                        0   \n",
       "4                      0                  0                        0   \n",
       "\n",
       "   category_name_Webseries  category_name_Woodworking  \\\n",
       "0                        0                          0   \n",
       "1                        0                          0   \n",
       "2                        0                          0   \n",
       "3                        0                          0   \n",
       "4                        0                          0   \n",
       "\n",
       "   category_name_Workshops  category_name_World Music  \\\n",
       "0                        0                          0   \n",
       "1                        0                          0   \n",
       "2                        0                          0   \n",
       "3                        0                          0   \n",
       "4                        0                          0   \n",
       "\n",
       "   category_name_Young Adult  category_name_Zines  0  \n",
       "0                          0                    0  1  \n",
       "1                          0                    0  0  \n",
       "2                          0                    0  0  \n",
       "3                          0                    0  0  \n",
       "4                          0                    0  0  \n",
       "\n",
       "[5 rows x 198 columns]"
      ]
     },
     "metadata": {},
     "execution_count": 29
    }
   ],
   "metadata": {}
  },
  {
   "cell_type": "code",
   "execution_count": 30,
   "source": [
    "df_bal[df_bal['name_length'] > 5][0].hist()"
   ],
   "outputs": [
    {
     "output_type": "execute_result",
     "data": {
      "text/plain": [
       "<AxesSubplot:>"
      ]
     },
     "metadata": {},
     "execution_count": 30
    },
    {
     "output_type": "display_data",
     "data": {
      "image/png": "[encoded data removed]",
      "text/plain": [
       "<Figure size 432x288 with 1 Axes>"
      ]
     },
     "metadata": {
      "needs_background": "light"
     }
    }
   ],
   "metadata": {}
  },
  {
   "cell_type": "code",
   "execution_count": 31,
   "source": [
    "ax = sns.countplot(data=df_bal, x=\"name_length\", hue=0)\n",
    "ax.set(xlabel= 'Titel length', ylabel='Count')\n",
    "legend_labels, _= ax.get_legend_handles_labels()\n",
    "ax.legend(legend_labels, ['Failure','Success'])#, bbox_to_anchor=(1,1))\n",
    "plt.show"
   ],
   "outputs": [
    {
     "output_type": "execute_result",
     "data": {
      "text/plain": [
       "<function matplotlib.pyplot.show(close=None, block=None)>"
      ]
     },
     "metadata": {},
     "execution_count": 31
    },
    {
     "output_type": "display_data",
     "data": {
      "image/png": "[encoded data removed]",
      "text/plain": [
       "<Figure size 432x288 with 1 Axes>"
      ]
     },
     "metadata": {
      "needs_background": "light"
     }
    }
   ],
   "metadata": {}
  },
  {
   "cell_type": "markdown",
   "source": [
    "## Simple Tree model"
   ],
   "metadata": {}
  },
  {
   "cell_type": "code",
   "execution_count": 32,
   "source": [
    "clf_tree = DecisionTreeClassifier()\n",
    "y_pred_tree = clf_train_predict(clf_tree, train, train_label, test)\n",
    "cm = simple_metrics(test_label, y_pred_tree)\n",
    "plot_confusion_matrix(\n",
    "    cm, classes=['Fail', 'Success'], \n",
    "    title='Success of Kickstarter projects (Tree)'\n",
    ")"
   ],
   "outputs": [
    {
     "output_type": "stream",
     "name": "stdout",
     "text": [
      "accuracy_score 0.7796288073883314\n",
      "f1-score 0.7615863500115287\n",
      "Confusion matrix, without normalization\n",
      "[[24079  4074]\n",
      " [ 8334 19818]]\n"
     ]
    },
    {
     "output_type": "display_data",
     "data": {
      "image/png": "[encoded data removed]",
      "text/plain": [
       "<Figure size 720x720 with 2 Axes>"
      ]
     },
     "metadata": {
      "needs_background": "light"
     }
    }
   ],
   "metadata": {}
  },
  {
   "cell_type": "markdown",
   "source": [
    "## Trying different models"
   ],
   "metadata": {}
  },
  {
   "cell_type": "markdown",
   "source": [
    "1. Random Forest "
   ],
   "metadata": {}
  },
  {
   "cell_type": "code",
   "execution_count": 38,
   "source": [
    "from sklearn.ensemble import RandomForestClassifier\n",
    "clf_rf = RandomForestClassifier(\n",
    "    n_estimators=100,\n",
    "    max_depth=None, \n",
    "    min_samples_split=2, \n",
    "    max_features='sqrt', \n",
    "    bootstrap=True, \n",
    "    oob_score=False, \n",
    "    n_jobs=-1,\n",
    "    random_state=RSEED\n",
    ")\n",
    "y_pred_rf = clf_train_predict(clf_rf, train, train_label, test)\n",
    "cm = simple_metrics(test_label, y_pred_rf)\n",
    "plot_confusion_matrix(\n",
    "    cm, classes=['Fail', 'Success'], \n",
    "    title='Success of Kickstarter projects (Random Forest)'\n",
    ")"
   ],
   "outputs": [
    {
     "output_type": "stream",
     "name": "stdout",
     "text": [
      "accuracy_score 0.819465411597549\n",
      "f1-score 0.8034343395277783\n",
      "Confusion matrix, without normalization\n",
      "[[25366  2787]\n",
      " [ 7378 20774]]\n"
     ]
    },
    {
     "output_type": "display_data",
     "data": {
      "image/png": "[encoded data removed]",
      "text/plain": [
       "<Figure size 720x720 with 2 Axes>"
      ]
     },
     "metadata": {
      "needs_background": "light"
     }
    }
   ],
   "metadata": {}
  },
  {
   "cell_type": "code",
   "execution_count": 59,
   "source": [
    "len(features_dummies)\n",
    "type(clf_rf.feature_importances_)\n",
    "rf_fi = [(x, y) for x,y in zip(features_dummies,clf_rf.feature_importances_)]\n",
    "rf_fi = sorted(rf_fi, key=lambda x : x[1], reverse=True)\n",
    "for i in rf_fi[0:15]:\n",
    "    print(f'{i[1]}:\\t{i[0]}')\n",
    "\n",
    "#print(rf_fi)"
   ],
   "outputs": [
    {
     "output_type": "stream",
     "name": "stdout",
     "text": [
      "0.14527689503213803:\tduration_start_launch\n",
      "0.1321641548188217:\tgoal\n",
      "0.09623733792439379:\tduration\n",
      "0.07503046954868961:\tblurb_length\n",
      "0.062054153880191885:\tname_length\n",
      "0.014020072646717618:\tcategory_name_Digital Art\n",
      "0.013043378692850787:\tcategory_name_Video Art\n",
      "0.012955182787996082:\tcategory_name_Sculpture\n",
      "0.012389966781000922:\tcategory_name_Nature\n",
      "0.011576567702431899:\tcategory_name_Robots\n",
      "0.011473435386410363:\tcategory_name_Cookbooks\n",
      "0.011420570999479273:\tcategory_name_Festivals\n",
      "0.011171500339340288:\tcategory_name_Immersive\n",
      "0.011132801337665605:\tcategory_name_Comedy\n",
      "0.010857898976058983:\tcategory_name_Ceramics\n"
     ]
    }
   ],
   "metadata": {}
  },
  {
   "cell_type": "markdown",
   "source": [
    "2. XGBoost"
   ],
   "metadata": {}
  },
  {
   "cell_type": "code",
   "execution_count": 34,
   "source": [
    "from xgboost import XGBClassifier \n",
    "clf_xgb = XGBClassifier( \n",
    "    n_estimators=100,\n",
    "    #max_depth=20, \n",
    "    n_jobs=-1\n",
    ")\n",
    "y_pred_xgb = clf_train_predict(clf_xgb, train, train_label, test)\n",
    "cm = simple_metrics(test_label, y_pred_xgb)\n",
    "plot_confusion_matrix(\n",
    "    cm, classes=['Fail', 'Success'], \n",
    "    title='Success of Kickstarter projects (XGB)'\n",
    ")"
   ],
   "outputs": [
    {
     "output_type": "stream",
     "name": "stderr",
     "text": [
      "/Users/fklein/neuefische/day28_20211103_2nd_project/Kickstarter_project/.venv/lib/python3.9/site-packages/xgboost/sklearn.py:1224: UserWarning: The use of label encoder in XGBClassifier is deprecated and will be removed in a future release. To remove this warning, do the following: 1) Pass option use_label_encoder=False when constructing XGBClassifier object; and 2) Encode your labels (y) as integers starting with 0, i.e. 0, 1, 2, ..., [num_class - 1].\n",
      "  warnings.warn(label_encoder_deprecation_msg, UserWarning)\n"
     ]
    },
    {
     "output_type": "stream",
     "name": "stdout",
     "text": [
      "[14:15:16] WARNING: /private/var/folders/z6/20813vb106nfz9y_jy2g9srm0000gn/T/pip-install-mi2n0a_o/xgboost_38d03cb6f6d64205821378f63f122808/build/temp.macosx-11.2-arm64-3.9/xgboost/src/learner.cc:1115: Starting in XGBoost 1.3.0, the default evaluation metric used with the objective 'binary:logistic' was changed from 'error' to 'logloss'. Explicitly set eval_metric if you'd like to restore the old behavior.\n",
      "accuracy_score 0.7871592220939526\n",
      "f1-score 0.7764345944332512\n",
      "Confusion matrix, without normalization\n",
      "[[23511  4642]\n",
      " [ 7342 20810]]\n"
     ]
    },
    {
     "output_type": "display_data",
     "data": {
      "image/png": "[encoded data removed]",
      "text/plain": [
       "<Figure size 720x720 with 2 Axes>"
      ]
     },
     "metadata": {
      "needs_background": "light"
     }
    }
   ],
   "metadata": {}
  },
  {
   "cell_type": "markdown",
   "source": [
    "3. Naive Bayes"
   ],
   "metadata": {}
  },
  {
   "cell_type": "code",
   "execution_count": 35,
   "source": [
    "from sklearn.naive_bayes import GaussianNB\n",
    "clf_gnb = GaussianNB()\n",
    "y_pred_gnb = clf_train_predict(clf_gnb, train, train_label, test)\n",
    "cm = simple_metrics(test_label, y_pred_gnb)\n",
    "plot_confusion_matrix(\n",
    "    cm, classes=['Fail', 'Success'], \n",
    "    title='Success of Kickstarter projects (XGB)'\n",
    ")"
   ],
   "outputs": [
    {
     "output_type": "stream",
     "name": "stdout",
     "text": [
      "accuracy_score 0.5202024686972738\n",
      "f1-score 0.6737042986725931\n",
      "Confusion matrix, without normalization\n",
      "[[ 1401 26752]\n",
      " [  263 27889]]\n"
     ]
    },
    {
     "output_type": "display_data",
     "data": {
      "image/png": "[encoded data removed]",
      "text/plain": [
       "<Figure size 720x720 with 2 Axes>"
      ]
     },
     "metadata": {
      "needs_background": "light"
     }
    }
   ],
   "metadata": {}
  },
  {
   "cell_type": "markdown",
   "source": [
    "4. SVM"
   ],
   "metadata": {}
  },
  {
   "cell_type": "code",
   "execution_count": 36,
   "source": [
    "#SVC implementation, linear and rbf take too long (rbf took 9 min, still not finished)\n",
    "#clf_svm = SVC(kernel='rbf', C=1)\n",
    "#y_pred_svm = clf_train_predict(clf_svm, train, train_label, test)\n",
    "#cm = simple_metrics(test_label, y_pred_svm)\n",
    "#plot_confusion_matrix(\n",
    "#    cm, classes=['Fail', 'Success'], \n",
    "#    title='Success of Kickstarter projects (SVM)'\n",
    "#)\n"
   ],
   "outputs": [],
   "metadata": {}
  },
  {
   "cell_type": "code",
   "execution_count": 37,
   "source": [
    "#SGDClassifier (hinge = linear SVC)\n",
    "from sklearn.linear_model import SGDClassifier\n",
    "clf_sgd = SGDClassifier(loss='hinge')\n",
    "y_pred_sgd = clf_train_predict(clf_sgd, train, train_label, test)\n",
    "cm = simple_metrics(test_label, y_pred_sgd)\n",
    "plot_confusion_matrix(\n",
    "    cm, classes=['Fail', 'Success'], \n",
    "    title='Success of Kickstarter projects (SVM)'\n",
    ")"
   ],
   "outputs": [
    {
     "output_type": "stream",
     "name": "stdout",
     "text": [
      "accuracy_score 0.6080809874789095\n",
      "f1-score 0.6303127774706405\n",
      "Confusion matrix, without normalization\n",
      "[[15426 12727]\n",
      " [ 9340 18812]]\n"
     ]
    },
    {
     "output_type": "display_data",
     "data": {
      "image/png": "[encoded data removed]",
      "text/plain": [
       "<Figure size 720x720 with 2 Axes>"
      ]
     },
     "metadata": {
      "needs_background": "light"
     }
    }
   ],
   "metadata": {}
  },
  {
   "cell_type": "markdown",
   "source": [
    "## Gridsearch using Random Forests"
   ],
   "metadata": {}
  },
  {
   "cell_type": "code",
   "execution_count": null,
   "source": [],
   "outputs": [],
   "metadata": {}
  },
  {
   "cell_type": "markdown",
   "source": [
    "# Data cleaningin and feature engineering"
   ],
   "metadata": {}
  },
  {
   "cell_type": "code",
   "execution_count": null,
   "source": [
    "coffee_features.info()"
   ],
   "outputs": [
    {
     "output_type": "stream",
     "name": "stdout",
     "text": [
      "<class 'pandas.core.frame.DataFrame'>\n",
      "RangeIndex: 28 entries, 0 to 27\n",
      "Data columns (total 44 columns):\n",
      " #   Column                 Non-Null Count  Dtype  \n",
      "---  ------                 --------------  -----  \n",
      " 0   Unnamed: 0             28 non-null     int64  \n",
      " 1   Species                28 non-null     object \n",
      " 2   Owner                  28 non-null     object \n",
      " 3   Country.of.Origin      28 non-null     object \n",
      " 4   Farm.Name              25 non-null     object \n",
      " 5   Lot.Number             6 non-null      object \n",
      " 6   Mill                   20 non-null     object \n",
      " 7   ICO.Number             17 non-null     object \n",
      " 8   Company                28 non-null     object \n",
      " 9   Altitude               25 non-null     object \n",
      " 10  Region                 26 non-null     object \n",
      " 11  Producer               26 non-null     object \n",
      " 12  Number.of.Bags         28 non-null     int64  \n",
      " 13  Bag.Weight             28 non-null     object \n",
      " 14  In.Country.Partner     28 non-null     object \n",
      " 15  Harvest.Year           28 non-null     int64  \n",
      " 16  Grading.Date           28 non-null     object \n",
      " 17  Owner.1                28 non-null     object \n",
      " 18  Variety                3 non-null      object \n",
      " 19  Processing.Method      10 non-null     object \n",
      " 20  Fragrance...Aroma      28 non-null     float64\n",
      " 21  Flavor                 28 non-null     float64\n",
      " 22  Aftertaste             28 non-null     float64\n",
      " 23  Salt...Acid            28 non-null     float64\n",
      " 24  Bitter...Sweet         28 non-null     float64\n",
      " 25  Mouthfeel              28 non-null     float64\n",
      " 26  Uniform.Cup            28 non-null     float64\n",
      " 27  Clean.Cup              28 non-null     float64\n",
      " 28  Balance                28 non-null     float64\n",
      " 29  Cupper.Points          28 non-null     float64\n",
      " 30  Total.Cup.Points       28 non-null     float64\n",
      " 31  Moisture               28 non-null     float64\n",
      " 32  Category.One.Defects   28 non-null     int64  \n",
      " 33  Quakers                28 non-null     int64  \n",
      " 34  Color                  26 non-null     object \n",
      " 35  Category.Two.Defects   28 non-null     int64  \n",
      " 36  Expiration             28 non-null     object \n",
      " 37  Certification.Body     28 non-null     object \n",
      " 38  Certification.Address  28 non-null     object \n",
      " 39  Certification.Contact  28 non-null     object \n",
      " 40  unit_of_measurement    28 non-null     object \n",
      " 41  altitude_low_meters    25 non-null     float64\n",
      " 42  altitude_high_meters   25 non-null     float64\n",
      " 43  altitude_mean_meters   25 non-null     float64\n",
      "dtypes: float64(15), int64(6), object(23)\n",
      "memory usage: 9.8+ KB\n"
     ]
    }
   ],
   "metadata": {}
  },
  {
   "cell_type": "code",
   "execution_count": null,
   "source": [
    "#for this exercise we will only deal with numeric variables\n",
    "\n",
    "X = coffee_features.select_dtypes(['number'])"
   ],
   "outputs": [],
   "metadata": {}
  },
  {
   "cell_type": "markdown",
   "source": [
    "## Splitting data for testing "
   ],
   "metadata": {}
  },
  {
   "cell_type": "code",
   "execution_count": null,
   "source": [
    "from sklearn.model_selection import train_test_split\n",
    "\n",
    "X_train, X_test, y_train, y_test = train_test_split(X, Y, test_size=0.20, random_state=42)"
   ],
   "outputs": [],
   "metadata": {}
  },
  {
   "cell_type": "code",
   "execution_count": null,
   "source": [
    "#dropping Quakers column and unnamed\n",
    "#changing one of the altitude to log and droping the original\n",
    "X_train[\"altitude_mean_log\"] = np.log(X_train[\"altitude_mean_meters\"])\n",
    "X_train.drop(['altitude_mean_meters'], axis=1, inplace=True)\n",
    "X_train.drop(['Quakers'], axis=1, inplace=True)\n",
    "X_train.drop(['Unnamed: 0'], axis=1, inplace=True)"
   ],
   "outputs": [],
   "metadata": {}
  },
  {
   "cell_type": "code",
   "execution_count": null,
   "source": [
    "X_train.info()"
   ],
   "outputs": [
    {
     "output_type": "stream",
     "name": "stdout",
     "text": [
      "<class 'pandas.core.frame.DataFrame'>\n",
      "Int64Index: 22 entries, 17 to 6\n",
      "Data columns (total 19 columns):\n",
      " #   Column                Non-Null Count  Dtype  \n",
      "---  ------                --------------  -----  \n",
      " 0   Number.of.Bags        22 non-null     int64  \n",
      " 1   Harvest.Year          22 non-null     int64  \n",
      " 2   Fragrance...Aroma     22 non-null     float64\n",
      " 3   Flavor                22 non-null     float64\n",
      " 4   Aftertaste            22 non-null     float64\n",
      " 5   Salt...Acid           22 non-null     float64\n",
      " 6   Bitter...Sweet        22 non-null     float64\n",
      " 7   Mouthfeel             22 non-null     float64\n",
      " 8   Uniform.Cup           22 non-null     float64\n",
      " 9   Clean.Cup             22 non-null     float64\n",
      " 10  Balance               22 non-null     float64\n",
      " 11  Cupper.Points         22 non-null     float64\n",
      " 12  Total.Cup.Points      22 non-null     float64\n",
      " 13  Moisture              22 non-null     float64\n",
      " 14  Category.One.Defects  22 non-null     int64  \n",
      " 15  Category.Two.Defects  22 non-null     int64  \n",
      " 16  altitude_low_meters   19 non-null     float64\n",
      " 17  altitude_high_meters  19 non-null     float64\n",
      " 18  altitude_mean_log     19 non-null     float64\n",
      "dtypes: float64(15), int64(4)\n",
      "memory usage: 3.4 KB\n"
     ]
    }
   ],
   "metadata": {}
  },
  {
   "cell_type": "code",
   "execution_count": null,
   "source": [
    "altitude_low_meters_mean = X_train[\"altitude_low_meters\"].mean()\n",
    "altitude_high_meters_mean = X_train[\"altitude_high_meters\"].mean()\n",
    "altitude_mean_log_mean = X_train[\"altitude_mean_log\"].mean()"
   ],
   "outputs": [],
   "metadata": {}
  },
  {
   "cell_type": "code",
   "execution_count": null,
   "source": [
    "# fillna with mean.. \n",
    "X_train[\"altitude_low_meters\"] = X_train[\"altitude_low_meters\"].fillna(altitude_low_meters_mean)\n",
    "X_train[\"altitude_high_meters\"] = X_train[\"altitude_high_meters\"].fillna(altitude_high_meters_mean)\n",
    "X_train[\"altitude_mean_log\"] = X_train[\"altitude_mean_log\"].fillna(altitude_mean_log_mean)"
   ],
   "outputs": [],
   "metadata": {}
  },
  {
   "cell_type": "code",
   "execution_count": null,
   "source": [
    "print(f\"altitude low meters mean is {altitude_low_meters_mean}\")\n",
    "print(f\"altitude_high_meters_mean is {altitude_high_meters_mean}\")\n",
    "print(f\"altitude_mean_log_mean is {altitude_mean_log_mean}\")"
   ],
   "outputs": [
    {
     "output_type": "stream",
     "name": "stdout",
     "text": [
      "altitude low meters mean is 1500.3684210526317\n",
      "altitude_high_meters_mean is 1505.6315789473683\n",
      "altitude_mean_log_mean is 7.0571530664031155\n"
     ]
    }
   ],
   "metadata": {}
  },
  {
   "cell_type": "markdown",
   "source": [
    "## Trainining the model"
   ],
   "metadata": {}
  },
  {
   "cell_type": "code",
   "execution_count": null,
   "source": [
    "## in order to exemplify how the predict will work.. we will save the y_train\n",
    "X_test.to_csv(\"data/X_test.csv\")\n",
    "y_test.to_csv(\"data/y_test.csv\")"
   ],
   "outputs": [],
   "metadata": {}
  },
  {
   "cell_type": "code",
   "execution_count": null,
   "source": [
    "#training the model\n",
    "from sklearn.linear_model import LinearRegression\n",
    "reg = LinearRegression().fit(X_train, y_train)"
   ],
   "outputs": [],
   "metadata": {}
  },
  {
   "cell_type": "code",
   "execution_count": null,
   "source": [
    "from sklearn.metrics import mean_squared_error\n",
    "y_train_pred = reg.predict(X_train)\n",
    "mse = mean_squared_error(y_train, y_train_pred)\n",
    "print(mse)"
   ],
   "outputs": [
    {
     "output_type": "stream",
     "name": "stdout",
     "text": [
      "6.701014816713759e-28\n"
     ]
    }
   ],
   "metadata": {}
  },
  {
   "cell_type": "code",
   "execution_count": null,
   "source": [
    "#dropping Quakers column and unnamed\n",
    "#changing one of the altitude to log and droping the original\n",
    "X_test[\"altitude_mean_log\"] = np.log(X_test[\"altitude_mean_meters\"])\n",
    "X_test.drop(['altitude_mean_meters'], axis=1, inplace=True)\n",
    "X_test.drop(['Quakers'], axis=1, inplace=True)\n",
    "X_test.drop(['Unnamed: 0'], axis=1, inplace=True)\n",
    "# fillna with mean.. \n",
    "X_test[\"altitude_low_meters\"] = X_test[\"altitude_low_meters\"].fillna(altitude_low_meters_mean)\n",
    "X_test[\"altitude_high_meters\"] = X_test[\"altitude_high_meters\"].fillna(altitude_high_meters_mean)\n",
    "X_test[\"altitude_mean_log\"] = X_test[\"altitude_mean_log\"].fillna(altitude_mean_log_mean)"
   ],
   "outputs": [],
   "metadata": {}
  },
  {
   "cell_type": "code",
   "execution_count": null,
   "source": [
    "y_test_pred = reg.predict(X_test)\n",
    "mse = mean_squared_error(y_test, y_test_pred)\n",
    "print(mse)"
   ],
   "outputs": [
    {
     "output_type": "stream",
     "name": "stdout",
     "text": [
      "2.08680004794465e-27\n"
     ]
    }
   ],
   "metadata": {}
  }
 ],
 "metadata": {
  "interpreter": {
   "hash": "254a97cf7884c67a47db24b484cd8474199a4e1d3e1850ce7b59137a3e7b43f7"
  },
  "kernelspec": {
   "name": "python3",
   "display_name": "Python 3.9.4 64-bit ('.venv': venv)"
  },
  "language_info": {
   "codemirror_mode": {
    "name": "ipython",
    "version": 3
   },
   "file_extension": ".py",
   "mimetype": "text/x-python",
   "name": "python",
   "nbconvert_exporter": "python",
   "pygments_lexer": "ipython3",
   "version": "3.9.4"
  }
 },
 "nbformat": 4,
 "nbformat_minor": 4
}