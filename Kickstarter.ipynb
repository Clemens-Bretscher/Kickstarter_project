{
 "cells": [
  {
   "cell_type": "code",
   "execution_count": 3,
   "source": [
    "import pandas as pd\n",
    "import numpy as np\n",
    "import warnings\n",
    "import matplotlib.pyplot as plt\n",
    "\n"
   ],
   "outputs": [
    {
     "output_type": "stream",
     "name": "stderr",
     "text": [
      "/Users/fklein/neuefische/day28_20211103_2nd_project/Kickstarter_project/.venv/lib/python3.9/site-packages/pandas/compat/__init__.py:124: UserWarning: Could not import the lzma module. Your installed Python is incomplete. Attempting to use lzma compression will result in a RuntimeError.\n",
      "  warnings.warn(msg)\n"
     ]
    }
   ],
   "metadata": {}
  },
  {
   "cell_type": "code",
   "execution_count": 4,
   "source": [
    "df_raw = pd.read_csv('data/data/Kickstarter001.csv')"
   ],
   "outputs": [],
   "metadata": {}
  },
  {
   "cell_type": "code",
   "execution_count": 5,
   "source": [
    "df_raw.columns"
   ],
   "outputs": [
    {
     "output_type": "execute_result",
     "data": {
      "text/plain": [
       "Index(['backers_count', 'blurb', 'category', 'converted_pledged_amount',\n",
       "       'country', 'created_at', 'creator', 'currency', 'currency_symbol',\n",
       "       'currency_trailing_code', 'current_currency', 'deadline',\n",
       "       'disable_communication', 'friends', 'fx_rate', 'goal', 'id',\n",
       "       'is_backing', 'is_starrable', 'is_starred', 'launched_at', 'location',\n",
       "       'name', 'permissions', 'photo', 'pledged', 'profile', 'slug',\n",
       "       'source_url', 'spotlight', 'staff_pick', 'state', 'state_changed_at',\n",
       "       'static_usd_rate', 'urls', 'usd_pledged', 'usd_type'],\n",
       "      dtype='object')"
      ]
     },
     "metadata": {},
     "execution_count": 5
    }
   ],
   "metadata": {}
  },
  {
   "cell_type": "code",
   "execution_count": 8,
   "source": [
    "df = df_raw[['blurb', 'category','country', 'created_at', \n",
    "       'currency','deadline', 'disable_communication', 'friends', 'goal', 'id',\n",
    "       'launched_at', 'location','name', 'photo', 'slug',\n",
    "       'source_url', 'state', \n",
    "       'urls', 'usd_pledged']]"
   ],
   "outputs": [],
   "metadata": {}
  },
  {
   "cell_type": "code",
   "execution_count": 10,
   "source": [
    "df.eval('duration = deadline - launched_at', inplace=True)\n",
    "df.info()"
   ],
   "outputs": [
    {
     "output_type": "stream",
     "name": "stdout",
     "text": [
      "<class 'pandas.core.frame.DataFrame'>\n",
      "RangeIndex: 3784 entries, 0 to 3783\n",
      "Data columns (total 20 columns):\n",
      " #   Column                 Non-Null Count  Dtype  \n",
      "---  ------                 --------------  -----  \n",
      " 0   blurb                  3784 non-null   object \n",
      " 1   category               3784 non-null   object \n",
      " 2   country                3784 non-null   object \n",
      " 3   created_at             3784 non-null   int64  \n",
      " 4   currency               3784 non-null   object \n",
      " 5   deadline               3784 non-null   int64  \n",
      " 6   disable_communication  3784 non-null   bool   \n",
      " 7   friends                2 non-null      object \n",
      " 8   goal                   3784 non-null   float64\n",
      " 9   id                     3784 non-null   int64  \n",
      " 10  launched_at            3784 non-null   int64  \n",
      " 11  location               3780 non-null   object \n",
      " 12  name                   3784 non-null   object \n",
      " 13  photo                  3784 non-null   object \n",
      " 14  slug                   3784 non-null   object \n",
      " 15  source_url             3784 non-null   object \n",
      " 16  state                  3784 non-null   object \n",
      " 17  urls                   3784 non-null   object \n",
      " 18  usd_pledged            3784 non-null   float64\n",
      " 19  duration               3784 non-null   int64  \n",
      "dtypes: bool(1), float64(2), int64(5), object(12)\n",
      "memory usage: 565.5+ KB\n"
     ]
    }
   ],
   "metadata": {}
  },
  {
   "cell_type": "code",
   "execution_count": null,
   "source": [],
   "outputs": [],
   "metadata": {}
  },
  {
   "cell_type": "code",
   "execution_count": 20,
   "source": [
    "df['category'].apply(pd.Series).apply(pd.Series)"
   ],
   "outputs": [
    {
     "output_type": "execute_result",
     "data": {
      "text/html": [
       "<div>\n",
       "<style scoped>\n",
       "    .dataframe tbody tr th:only-of-type {\n",
       "        vertical-align: middle;\n",
       "    }\n",
       "\n",
       "    .dataframe tbody tr th {\n",
       "        vertical-align: top;\n",
       "    }\n",
       "\n",
       "    .dataframe thead th {\n",
       "        text-align: right;\n",
       "    }\n",
       "</style>\n",
       "<table border=\"1\" class=\"dataframe\">\n",
       "  <thead>\n",
       "    <tr style=\"text-align: right;\">\n",
       "      <th></th>\n",
       "      <th>0</th>\n",
       "    </tr>\n",
       "  </thead>\n",
       "  <tbody>\n",
       "    <tr>\n",
       "      <th>0</th>\n",
       "      <td>{\"id\":350,\"name\":\"Pottery\",\"slug\":\"crafts/pott...</td>\n",
       "    </tr>\n",
       "    <tr>\n",
       "      <th>1</th>\n",
       "      <td>{\"id\":49,\"name\":\"Periodicals\",\"slug\":\"publishi...</td>\n",
       "    </tr>\n",
       "    <tr>\n",
       "      <th>2</th>\n",
       "      <td>{\"id\":11,\"name\":\"Film &amp; Video\",\"slug\":\"film &amp; ...</td>\n",
       "    </tr>\n",
       "    <tr>\n",
       "      <th>3</th>\n",
       "      <td>{\"id\":293,\"name\":\"Drama\",\"slug\":\"film &amp; video/...</td>\n",
       "    </tr>\n",
       "    <tr>\n",
       "      <th>4</th>\n",
       "      <td>{\"id\":21,\"name\":\"Digital Art\",\"slug\":\"art/digi...</td>\n",
       "    </tr>\n",
       "    <tr>\n",
       "      <th>...</th>\n",
       "      <td>...</td>\n",
       "    </tr>\n",
       "    <tr>\n",
       "      <th>3779</th>\n",
       "      <td>{\"id\":345,\"name\":\"DIY\",\"slug\":\"crafts/diy\",\"po...</td>\n",
       "    </tr>\n",
       "    <tr>\n",
       "      <th>3780</th>\n",
       "      <td>{\"id\":338,\"name\":\"Robots\",\"slug\":\"technology/r...</td>\n",
       "    </tr>\n",
       "    <tr>\n",
       "      <th>3781</th>\n",
       "      <td>{\"id\":361,\"name\":\"Web\",\"slug\":\"journalism/web\"...</td>\n",
       "    </tr>\n",
       "    <tr>\n",
       "      <th>3782</th>\n",
       "      <td>{\"id\":24,\"name\":\"Performance Art\",\"slug\":\"art/...</td>\n",
       "    </tr>\n",
       "    <tr>\n",
       "      <th>3783</th>\n",
       "      <td>{\"id\":29,\"name\":\"Animation\",\"slug\":\"film &amp; vid...</td>\n",
       "    </tr>\n",
       "  </tbody>\n",
       "</table>\n",
       "<p>3784 rows × 1 columns</p>\n",
       "</div>"
      ],
      "text/plain": [
       "                                                      0\n",
       "0     {\"id\":350,\"name\":\"Pottery\",\"slug\":\"crafts/pott...\n",
       "1     {\"id\":49,\"name\":\"Periodicals\",\"slug\":\"publishi...\n",
       "2     {\"id\":11,\"name\":\"Film & Video\",\"slug\":\"film & ...\n",
       "3     {\"id\":293,\"name\":\"Drama\",\"slug\":\"film & video/...\n",
       "4     {\"id\":21,\"name\":\"Digital Art\",\"slug\":\"art/digi...\n",
       "...                                                 ...\n",
       "3779  {\"id\":345,\"name\":\"DIY\",\"slug\":\"crafts/diy\",\"po...\n",
       "3780  {\"id\":338,\"name\":\"Robots\",\"slug\":\"technology/r...\n",
       "3781  {\"id\":361,\"name\":\"Web\",\"slug\":\"journalism/web\"...\n",
       "3782  {\"id\":24,\"name\":\"Performance Art\",\"slug\":\"art/...\n",
       "3783  {\"id\":29,\"name\":\"Animation\",\"slug\":\"film & vid...\n",
       "\n",
       "[3784 rows x 1 columns]"
      ]
     },
     "metadata": {},
     "execution_count": 20
    }
   ],
   "metadata": {}
  },
  {
   "cell_type": "markdown",
   "source": [
    "# Data cleaningin and feature engineering"
   ],
   "metadata": {}
  },
  {
   "cell_type": "code",
   "execution_count": 5,
   "source": [
    "coffee_features.info()"
   ],
   "outputs": [
    {
     "output_type": "stream",
     "name": "stdout",
     "text": [
      "<class 'pandas.core.frame.DataFrame'>\n",
      "RangeIndex: 28 entries, 0 to 27\n",
      "Data columns (total 44 columns):\n",
      " #   Column                 Non-Null Count  Dtype  \n",
      "---  ------                 --------------  -----  \n",
      " 0   Unnamed: 0             28 non-null     int64  \n",
      " 1   Species                28 non-null     object \n",
      " 2   Owner                  28 non-null     object \n",
      " 3   Country.of.Origin      28 non-null     object \n",
      " 4   Farm.Name              25 non-null     object \n",
      " 5   Lot.Number             6 non-null      object \n",
      " 6   Mill                   20 non-null     object \n",
      " 7   ICO.Number             17 non-null     object \n",
      " 8   Company                28 non-null     object \n",
      " 9   Altitude               25 non-null     object \n",
      " 10  Region                 26 non-null     object \n",
      " 11  Producer               26 non-null     object \n",
      " 12  Number.of.Bags         28 non-null     int64  \n",
      " 13  Bag.Weight             28 non-null     object \n",
      " 14  In.Country.Partner     28 non-null     object \n",
      " 15  Harvest.Year           28 non-null     int64  \n",
      " 16  Grading.Date           28 non-null     object \n",
      " 17  Owner.1                28 non-null     object \n",
      " 18  Variety                3 non-null      object \n",
      " 19  Processing.Method      10 non-null     object \n",
      " 20  Fragrance...Aroma      28 non-null     float64\n",
      " 21  Flavor                 28 non-null     float64\n",
      " 22  Aftertaste             28 non-null     float64\n",
      " 23  Salt...Acid            28 non-null     float64\n",
      " 24  Bitter...Sweet         28 non-null     float64\n",
      " 25  Mouthfeel              28 non-null     float64\n",
      " 26  Uniform.Cup            28 non-null     float64\n",
      " 27  Clean.Cup              28 non-null     float64\n",
      " 28  Balance                28 non-null     float64\n",
      " 29  Cupper.Points          28 non-null     float64\n",
      " 30  Total.Cup.Points       28 non-null     float64\n",
      " 31  Moisture               28 non-null     float64\n",
      " 32  Category.One.Defects   28 non-null     int64  \n",
      " 33  Quakers                28 non-null     int64  \n",
      " 34  Color                  26 non-null     object \n",
      " 35  Category.Two.Defects   28 non-null     int64  \n",
      " 36  Expiration             28 non-null     object \n",
      " 37  Certification.Body     28 non-null     object \n",
      " 38  Certification.Address  28 non-null     object \n",
      " 39  Certification.Contact  28 non-null     object \n",
      " 40  unit_of_measurement    28 non-null     object \n",
      " 41  altitude_low_meters    25 non-null     float64\n",
      " 42  altitude_high_meters   25 non-null     float64\n",
      " 43  altitude_mean_meters   25 non-null     float64\n",
      "dtypes: float64(15), int64(6), object(23)\n",
      "memory usage: 9.8+ KB\n"
     ]
    }
   ],
   "metadata": {}
  },
  {
   "cell_type": "code",
   "execution_count": 6,
   "source": [
    "#for this exercise we will only deal with numeric variables\n",
    "\n",
    "X = coffee_features.select_dtypes(['number'])"
   ],
   "outputs": [],
   "metadata": {}
  },
  {
   "cell_type": "markdown",
   "source": [
    "## Splitting data for testing "
   ],
   "metadata": {}
  },
  {
   "cell_type": "code",
   "execution_count": 7,
   "source": [
    "from sklearn.model_selection import train_test_split\n",
    "\n",
    "X_train, X_test, y_train, y_test = train_test_split(X, Y, test_size=0.20, random_state=42)"
   ],
   "outputs": [],
   "metadata": {}
  },
  {
   "cell_type": "code",
   "execution_count": 8,
   "source": [
    "#dropping Quakers column and unnamed\n",
    "#changing one of the altitude to log and droping the original\n",
    "X_train[\"altitude_mean_log\"] = np.log(X_train[\"altitude_mean_meters\"])\n",
    "X_train.drop(['altitude_mean_meters'], axis=1, inplace=True)\n",
    "X_train.drop(['Quakers'], axis=1, inplace=True)\n",
    "X_train.drop(['Unnamed: 0'], axis=1, inplace=True)"
   ],
   "outputs": [],
   "metadata": {}
  },
  {
   "cell_type": "code",
   "execution_count": 9,
   "source": [
    "X_train.info()"
   ],
   "outputs": [
    {
     "output_type": "stream",
     "name": "stdout",
     "text": [
      "<class 'pandas.core.frame.DataFrame'>\n",
      "Int64Index: 22 entries, 17 to 6\n",
      "Data columns (total 19 columns):\n",
      " #   Column                Non-Null Count  Dtype  \n",
      "---  ------                --------------  -----  \n",
      " 0   Number.of.Bags        22 non-null     int64  \n",
      " 1   Harvest.Year          22 non-null     int64  \n",
      " 2   Fragrance...Aroma     22 non-null     float64\n",
      " 3   Flavor                22 non-null     float64\n",
      " 4   Aftertaste            22 non-null     float64\n",
      " 5   Salt...Acid           22 non-null     float64\n",
      " 6   Bitter...Sweet        22 non-null     float64\n",
      " 7   Mouthfeel             22 non-null     float64\n",
      " 8   Uniform.Cup           22 non-null     float64\n",
      " 9   Clean.Cup             22 non-null     float64\n",
      " 10  Balance               22 non-null     float64\n",
      " 11  Cupper.Points         22 non-null     float64\n",
      " 12  Total.Cup.Points      22 non-null     float64\n",
      " 13  Moisture              22 non-null     float64\n",
      " 14  Category.One.Defects  22 non-null     int64  \n",
      " 15  Category.Two.Defects  22 non-null     int64  \n",
      " 16  altitude_low_meters   19 non-null     float64\n",
      " 17  altitude_high_meters  19 non-null     float64\n",
      " 18  altitude_mean_log     19 non-null     float64\n",
      "dtypes: float64(15), int64(4)\n",
      "memory usage: 3.4 KB\n"
     ]
    }
   ],
   "metadata": {}
  },
  {
   "cell_type": "code",
   "execution_count": 10,
   "source": [
    "altitude_low_meters_mean = X_train[\"altitude_low_meters\"].mean()\n",
    "altitude_high_meters_mean = X_train[\"altitude_high_meters\"].mean()\n",
    "altitude_mean_log_mean = X_train[\"altitude_mean_log\"].mean()"
   ],
   "outputs": [],
   "metadata": {}
  },
  {
   "cell_type": "code",
   "execution_count": 11,
   "source": [
    "# fillna with mean.. \n",
    "X_train[\"altitude_low_meters\"] = X_train[\"altitude_low_meters\"].fillna(altitude_low_meters_mean)\n",
    "X_train[\"altitude_high_meters\"] = X_train[\"altitude_high_meters\"].fillna(altitude_high_meters_mean)\n",
    "X_train[\"altitude_mean_log\"] = X_train[\"altitude_mean_log\"].fillna(altitude_mean_log_mean)"
   ],
   "outputs": [],
   "metadata": {}
  },
  {
   "cell_type": "code",
   "execution_count": 12,
   "source": [
    "print(f\"altitude low meters mean is {altitude_low_meters_mean}\")\n",
    "print(f\"altitude_high_meters_mean is {altitude_high_meters_mean}\")\n",
    "print(f\"altitude_mean_log_mean is {altitude_mean_log_mean}\")"
   ],
   "outputs": [
    {
     "output_type": "stream",
     "name": "stdout",
     "text": [
      "altitude low meters mean is 1500.3684210526317\n",
      "altitude_high_meters_mean is 1505.6315789473683\n",
      "altitude_mean_log_mean is 7.0571530664031155\n"
     ]
    }
   ],
   "metadata": {}
  },
  {
   "cell_type": "markdown",
   "source": [
    "## Trainining the model"
   ],
   "metadata": {}
  },
  {
   "cell_type": "code",
   "execution_count": 13,
   "source": [
    "## in order to exemplify how the predict will work.. we will save the y_train\n",
    "X_test.to_csv(\"data/X_test.csv\")\n",
    "y_test.to_csv(\"data/y_test.csv\")"
   ],
   "outputs": [],
   "metadata": {}
  },
  {
   "cell_type": "code",
   "execution_count": 15,
   "source": [
    "#training the model\n",
    "from sklearn.linear_model import LinearRegression\n",
    "reg = LinearRegression().fit(X_train, y_train)"
   ],
   "outputs": [],
   "metadata": {}
  },
  {
   "cell_type": "code",
   "execution_count": 17,
   "source": [
    "from sklearn.metrics import mean_squared_error\n",
    "y_train_pred = reg.predict(X_train)\n",
    "mse = mean_squared_error(y_train, y_train_pred)\n",
    "print(mse)"
   ],
   "outputs": [
    {
     "output_type": "stream",
     "name": "stdout",
     "text": [
      "6.701014816713759e-28\n"
     ]
    }
   ],
   "metadata": {}
  },
  {
   "cell_type": "code",
   "execution_count": 18,
   "source": [
    "#dropping Quakers column and unnamed\n",
    "#changing one of the altitude to log and droping the original\n",
    "X_test[\"altitude_mean_log\"] = np.log(X_test[\"altitude_mean_meters\"])\n",
    "X_test.drop(['altitude_mean_meters'], axis=1, inplace=True)\n",
    "X_test.drop(['Quakers'], axis=1, inplace=True)\n",
    "X_test.drop(['Unnamed: 0'], axis=1, inplace=True)\n",
    "# fillna with mean.. \n",
    "X_test[\"altitude_low_meters\"] = X_test[\"altitude_low_meters\"].fillna(altitude_low_meters_mean)\n",
    "X_test[\"altitude_high_meters\"] = X_test[\"altitude_high_meters\"].fillna(altitude_high_meters_mean)\n",
    "X_test[\"altitude_mean_log\"] = X_test[\"altitude_mean_log\"].fillna(altitude_mean_log_mean)"
   ],
   "outputs": [],
   "metadata": {}
  },
  {
   "cell_type": "code",
   "execution_count": 19,
   "source": [
    "y_test_pred = reg.predict(X_test)\n",
    "mse = mean_squared_error(y_test, y_test_pred)\n",
    "print(mse)"
   ],
   "outputs": [
    {
     "output_type": "stream",
     "name": "stdout",
     "text": [
      "2.08680004794465e-27\n"
     ]
    }
   ],
   "metadata": {}
  }
 ],
 "metadata": {
  "kernelspec": {
   "name": "python3",
   "display_name": "Python 3.9.4 64-bit ('.venv': venv)"
  },
  "language_info": {
   "codemirror_mode": {
    "name": "ipython",
    "version": 3
   },
   "file_extension": ".py",
   "mimetype": "text/x-python",
   "name": "python",
   "nbconvert_exporter": "python",
   "pygments_lexer": "ipython3",
   "version": "3.9.4"
  },
  "interpreter": {
   "hash": "254a97cf7884c67a47db24b484cd8474199a4e1d3e1850ce7b59137a3e7b43f7"
  }
 },
 "nbformat": 4,
 "nbformat_minor": 4
}