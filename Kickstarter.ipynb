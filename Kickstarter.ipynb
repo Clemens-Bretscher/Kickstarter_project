{
 "cells": [
  {
   "cell_type": "code",
   "execution_count": 46,
   "metadata": {},
   "outputs": [],
   "source": [
    "import pandas as pd\n",
    "import numpy as np\n",
    "import warnings\n",
    "import matplotlib.pyplot as plt\n",
    "import seaborn as sns\n",
    "from pandas_profiling import ProfileReport\n",
    "\n",
    "from sklearn.model_selection import train_test_split\n",
    "from sklearn.tree import DecisionTreeClassifier\n",
    "from sklearn.metrics import f1_score, accuracy_score, confusion_matrix\n",
    "\n",
    "import imblearn\n",
    "from imblearn.over_sampling import RandomOverSampler\n",
    "\n",
    "from sklearn.svm import SVC\n",
    "from sklearn.preprocessing import StandardScaler, MinMaxScaler\n",
    "from sklearn.model_selection import GridSearchCV, RandomizedSearchCV\n",
    "\n",
    "from sklearn.ensemble import StackingClassifier\n",
    "\n",
    "%matplotlib inline\n",
    "RSEED = 42\n",
    "\n"
   ]
  },
  {
   "cell_type": "code",
   "execution_count": 47,
   "metadata": {},
   "outputs": [
    {
     "name": "stdout",
     "output_type": "stream",
     "text": [
      "<class 'pandas.core.frame.DataFrame'>\n",
      "Int64Index: 209222 entries, 0 to 964\n",
      "Data columns (total 37 columns):\n",
      " #   Column                    Non-Null Count   Dtype  \n",
      "---  ------                    --------------   -----  \n",
      " 0   backers_count             209222 non-null  int64  \n",
      " 1   blurb                     209214 non-null  object \n",
      " 2   category                  209222 non-null  object \n",
      " 3   converted_pledged_amount  209222 non-null  int64  \n",
      " 4   country                   209222 non-null  object \n",
      " 5   created_at                209222 non-null  int64  \n",
      " 6   creator                   209222 non-null  object \n",
      " 7   currency                  209222 non-null  object \n",
      " 8   currency_symbol           209222 non-null  object \n",
      " 9   currency_trailing_code    209222 non-null  bool   \n",
      " 10  current_currency          209222 non-null  object \n",
      " 11  deadline                  209222 non-null  int64  \n",
      " 12  disable_communication     209222 non-null  bool   \n",
      " 13  friends                   300 non-null     object \n",
      " 14  fx_rate                   209222 non-null  float64\n",
      " 15  goal                      209222 non-null  float64\n",
      " 16  id                        209222 non-null  int64  \n",
      " 17  is_backing                300 non-null     object \n",
      " 18  is_starrable              209222 non-null  bool   \n",
      " 19  is_starred                300 non-null     object \n",
      " 20  launched_at               209222 non-null  int64  \n",
      " 21  location                  208996 non-null  object \n",
      " 22  name                      209222 non-null  object \n",
      " 23  permissions               300 non-null     object \n",
      " 24  photo                     209222 non-null  object \n",
      " 25  pledged                   209222 non-null  float64\n",
      " 26  profile                   209222 non-null  object \n",
      " 27  slug                      209222 non-null  object \n",
      " 28  source_url                209222 non-null  object \n",
      " 29  spotlight                 209222 non-null  bool   \n",
      " 30  staff_pick                209222 non-null  bool   \n",
      " 31  state                     209222 non-null  object \n",
      " 32  state_changed_at          209222 non-null  int64  \n",
      " 33  static_usd_rate           209222 non-null  float64\n",
      " 34  urls                      209222 non-null  object \n",
      " 35  usd_pledged               209222 non-null  float64\n",
      " 36  usd_type                  208742 non-null  object \n",
      "dtypes: bool(5), float64(5), int64(7), object(20)\n",
      "memory usage: 53.7+ MB\n"
     ]
    }
   ],
   "source": [
    "df_raw = pd.read_csv('data/data/Kickstarter000.csv')\n",
    "for i in range(1, 56):\n",
    "    filename = 'data/data/Kickstarter0' + str(i).zfill(2) + '.csv'\n",
    "    tt = pd.read_csv(filename)\n",
    "    df_raw = pd.concat([df_raw, tt], axis=0)\n",
    "df_raw.info()"
   ]
  },
  {
   "cell_type": "code",
   "execution_count": 48,
   "metadata": {},
   "outputs": [
    {
     "data": {
      "text/plain": [
       "Index(['backers_count', 'blurb', 'category', 'converted_pledged_amount',\n",
       "       'country', 'created_at', 'creator', 'currency', 'currency_symbol',\n",
       "       'currency_trailing_code', 'current_currency', 'deadline',\n",
       "       'disable_communication', 'friends', 'fx_rate', 'goal', 'id',\n",
       "       'is_backing', 'is_starrable', 'is_starred', 'launched_at', 'location',\n",
       "       'name', 'permissions', 'photo', 'pledged', 'profile', 'slug',\n",
       "       'source_url', 'spotlight', 'staff_pick', 'state', 'state_changed_at',\n",
       "       'static_usd_rate', 'urls', 'usd_pledged', 'usd_type'],\n",
       "      dtype='object')"
      ]
     },
     "execution_count": 48,
     "metadata": {},
     "output_type": "execute_result"
    }
   ],
   "source": [
    "df_raw.columns"
   ]
  },
  {
   "cell_type": "code",
   "execution_count": 49,
   "metadata": {},
   "outputs": [],
   "source": [
    "#df_raw"
   ]
  },
  {
   "cell_type": "code",
   "execution_count": 50,
   "metadata": {},
   "outputs": [],
   "source": [
    "df = df_raw[['blurb', 'category','country', 'created_at', \n",
    "       'currency','deadline', 'goal', 'id',\n",
    "       'launched_at', 'location','name', 'slug',\n",
    "       'source_url', 'state', \n",
    "       'urls', 'usd_pledged']] # , 'usd_type'"
   ]
  },
  {
   "cell_type": "code",
   "execution_count": 51,
   "metadata": {},
   "outputs": [
    {
     "name": "stderr",
     "output_type": "stream",
     "text": [
      "/Users/clemensbretscher/neuefische/Kickstarter_project/.venv/lib/python3.9/site-packages/pandas/util/_decorators.py:311: SettingWithCopyWarning: \n",
      "A value is trying to be set on a copy of a slice from a DataFrame\n",
      "\n",
      "See the caveats in the documentation: https://pandas.pydata.org/pandas-docs/stable/user_guide/indexing.html#returning-a-view-versus-a-copy\n",
      "  return func(*args, **kwargs)\n"
     ]
    }
   ],
   "source": [
    "df.dropna(axis=0, inplace=True)"
   ]
  },
  {
   "cell_type": "code",
   "execution_count": 52,
   "metadata": {},
   "outputs": [
    {
     "name": "stderr",
     "output_type": "stream",
     "text": [
      "/var/folders/6c/7n7j756n25n7b2f_mzn58nww0000gn/T/ipykernel_86814/3943520250.py:2: SettingWithCopyWarning: \n",
      "A value is trying to be set on a copy of a slice from a DataFrame.\n",
      "Try using .loc[row_indexer,col_indexer] = value instead\n",
      "\n",
      "See the caveats in the documentation: https://pandas.pydata.org/pandas-docs/stable/user_guide/indexing.html#returning-a-view-versus-a-copy\n",
      "  df['month'] = pd.to_datetime(df['launched_at'], unit='s').dt.month\n"
     ]
    }
   ],
   "source": [
    "# Month of project deadline\n",
    "df['month'] = pd.to_datetime(df['launched_at'], unit='s').dt.month\n",
    "#df"
   ]
  },
  {
   "cell_type": "code",
   "execution_count": 53,
   "metadata": {},
   "outputs": [
    {
     "name": "stderr",
     "output_type": "stream",
     "text": [
      "/Users/clemensbretscher/neuefische/Kickstarter_project/.venv/lib/python3.9/site-packages/pandas/core/frame.py:4906: SettingWithCopyWarning: \n",
      "A value is trying to be set on a copy of a slice from a DataFrame\n",
      "\n",
      "See the caveats in the documentation: https://pandas.pydata.org/pandas-docs/stable/user_guide/indexing.html#returning-a-view-versus-a-copy\n",
      "  return super().drop(\n"
     ]
    }
   ],
   "source": [
    "# Duration the the project was online\n",
    "df.eval('duration = (deadline - launched_at)/3600/24', inplace=True)\n",
    "# Time between project creation and launchin\n",
    "df.eval('duration_start_launch = (launched_at - created_at)/3600/24', inplace=True)\n",
    "df.drop(['deadline', 'created_at', 'launched_at'], axis=1, inplace=True)\n",
    "#df.head()"
   ]
  },
  {
   "cell_type": "code",
   "execution_count": 54,
   "metadata": {},
   "outputs": [],
   "source": [
    "df.eval('goal_per_duration = goal / duration', inplace=True)"
   ]
  },
  {
   "cell_type": "code",
   "execution_count": 55,
   "metadata": {},
   "outputs": [
    {
     "name": "stderr",
     "output_type": "stream",
     "text": [
      "/var/folders/6c/7n7j756n25n7b2f_mzn58nww0000gn/T/ipykernel_86814/4201644507.py:3: SettingWithCopyWarning: \n",
      "A value is trying to be set on a copy of a slice from a DataFrame.\n",
      "Try using .loc[row_indexer,col_indexer] = value instead\n",
      "\n",
      "See the caveats in the documentation: https://pandas.pydata.org/pandas-docs/stable/user_guide/indexing.html#returning-a-view-versus-a-copy\n",
      "  df['category_name'] = df['category'].apply(lambda x : json.loads(x)['name'])\n",
      "/Users/clemensbretscher/neuefische/Kickstarter_project/.venv/lib/python3.9/site-packages/pandas/core/frame.py:4906: SettingWithCopyWarning: \n",
      "A value is trying to be set on a copy of a slice from a DataFrame\n",
      "\n",
      "See the caveats in the documentation: https://pandas.pydata.org/pandas-docs/stable/user_guide/indexing.html#returning-a-view-versus-a-copy\n",
      "  return super().drop(\n"
     ]
    }
   ],
   "source": [
    "# Extract category nae\n",
    "import json\n",
    "df['category_name'] = df['category'].apply(lambda x : json.loads(x)['name'])\n",
    "df.drop('category', axis=1, inplace=True)\n",
    "#df.head()"
   ]
  },
  {
   "cell_type": "code",
   "execution_count": 56,
   "metadata": {},
   "outputs": [
    {
     "name": "stderr",
     "output_type": "stream",
     "text": [
      "/var/folders/6c/7n7j756n25n7b2f_mzn58nww0000gn/T/ipykernel_86814/2960411482.py:2: SettingWithCopyWarning: \n",
      "A value is trying to be set on a copy of a slice from a DataFrame.\n",
      "Try using .loc[row_indexer,col_indexer] = value instead\n",
      "\n",
      "See the caveats in the documentation: https://pandas.pydata.org/pandas-docs/stable/user_guide/indexing.html#returning-a-view-versus-a-copy\n",
      "  df['name_length'] = df['name'].apply(lambda x : len(x.split(' ')))\n"
     ]
    }
   ],
   "source": [
    "# Get name length\n",
    "df['name_length'] = df['name'].apply(lambda x : len(x.split(' ')))\n",
    "df.drop('name', axis=1, inplace=True)"
   ]
  },
  {
   "cell_type": "code",
   "execution_count": 57,
   "metadata": {},
   "outputs": [
    {
     "name": "stderr",
     "output_type": "stream",
     "text": [
      "/var/folders/6c/7n7j756n25n7b2f_mzn58nww0000gn/T/ipykernel_86814/3027176886.py:1: SettingWithCopyWarning: \n",
      "A value is trying to be set on a copy of a slice from a DataFrame.\n",
      "Try using .loc[row_indexer,col_indexer] = value instead\n",
      "\n",
      "See the caveats in the documentation: https://pandas.pydata.org/pandas-docs/stable/user_guide/indexing.html#returning-a-view-versus-a-copy\n",
      "  df['blurb_length'] = df['blurb'].apply(lambda x : len(x.split(' ')))\n"
     ]
    }
   ],
   "source": [
    "df['blurb_length'] = df['blurb'].apply(lambda x : len(x.split(' ')))\n",
    "df.drop('blurb', axis=1, inplace=True)"
   ]
  },
  {
   "cell_type": "code",
   "execution_count": 58,
   "metadata": {},
   "outputs": [
    {
     "name": "stderr",
     "output_type": "stream",
     "text": [
      "/var/folders/6c/7n7j756n25n7b2f_mzn58nww0000gn/T/ipykernel_86814/1543756393.py:2: SettingWithCopyWarning: \n",
      "A value is trying to be set on a copy of a slice from a DataFrame.\n",
      "Try using .loc[row_indexer,col_indexer] = value instead\n",
      "\n",
      "See the caveats in the documentation: https://pandas.pydata.org/pandas-docs/stable/user_guide/indexing.html#returning-a-view-versus-a-copy\n",
      "  df['city'] = df['location'].map(lambda x : (x.split('\"'))[5])\n"
     ]
    }
   ],
   "source": [
    "# Extract city name\n",
    "df['city'] = df['location'].map(lambda x : (x.split('\"'))[5])\n",
    "df.drop('location', axis=1, inplace=True)"
   ]
  },
  {
   "cell_type": "code",
   "execution_count": 59,
   "metadata": {},
   "outputs": [
    {
     "name": "stderr",
     "output_type": "stream",
     "text": [
      "/var/folders/6c/7n7j756n25n7b2f_mzn58nww0000gn/T/ipykernel_86814/1761087603.py:1: SettingWithCopyWarning: \n",
      "A value is trying to be set on a copy of a slice from a DataFrame.\n",
      "Try using .loc[row_indexer,col_indexer] = value instead\n",
      "\n",
      "See the caveats in the documentation: https://pandas.pydata.org/pandas-docs/stable/user_guide/indexing.html#returning-a-view-versus-a-copy\n",
      "  df['successful'] = (df['state'] == 'successful').astype(int)\n"
     ]
    }
   ],
   "source": [
    "df['successful'] = (df['state'] == 'successful').astype(int)\n",
    "df = df[~df['state'].isin(['canceled', 'live', 'suspended'])]\n",
    "df.drop('state', axis=1, inplace=True)"
   ]
  },
  {
   "cell_type": "markdown",
   "metadata": {},
   "source": [
    "## Data cleaning\n",
    "Removing duplicate rows, removing outliers, ..."
   ]
  },
  {
   "cell_type": "code",
   "execution_count": 60,
   "metadata": {},
   "outputs": [
    {
     "name": "stdout",
     "output_type": "stream",
     "text": [
      "<class 'pandas.core.frame.DataFrame'>\n",
      "Int64Index: 192447 entries, 0 to 964\n",
      "Data columns (total 17 columns):\n",
      " #   Column                 Non-Null Count   Dtype  \n",
      "---  ------                 --------------   -----  \n",
      " 0   country                192447 non-null  object \n",
      " 1   currency               192447 non-null  object \n",
      " 2   goal                   192447 non-null  float64\n",
      " 3   id                     192447 non-null  int64  \n",
      " 4   slug                   192447 non-null  object \n",
      " 5   source_url             192447 non-null  object \n",
      " 6   urls                   192447 non-null  object \n",
      " 7   usd_pledged            192447 non-null  float64\n",
      " 8   month                  192447 non-null  int64  \n",
      " 9   duration               192447 non-null  float64\n",
      " 10  duration_start_launch  192447 non-null  float64\n",
      " 11  goal_per_duration      192447 non-null  float64\n",
      " 12  category_name          192447 non-null  object \n",
      " 13  name_length            192447 non-null  int64  \n",
      " 14  blurb_length           192447 non-null  int64  \n",
      " 15  city                   192447 non-null  object \n",
      " 16  successful             192447 non-null  int64  \n",
      "dtypes: float64(5), int64(5), object(7)\n",
      "memory usage: 26.4+ MB\n"
     ]
    }
   ],
   "source": [
    "df.info()"
   ]
  },
  {
   "cell_type": "code",
   "execution_count": 61,
   "metadata": {},
   "outputs": [],
   "source": [
    "df_drop_dup = df.drop_duplicates(subset='id', keep='last')\n",
    "#df_drop_dup.info()"
   ]
  },
  {
   "cell_type": "code",
   "execution_count": 62,
   "metadata": {},
   "outputs": [],
   "source": [
    "df_drop_dup = df_drop_dup[df_drop_dup['name_length'] <= 20]"
   ]
  },
  {
   "cell_type": "code",
   "execution_count": 63,
   "metadata": {},
   "outputs": [],
   "source": [
    "#df_drop_dup['blurb_length'].hist()\n",
    "df_drop_dup = df_drop_dup[df_drop_dup['blurb_length'] <= 40]"
   ]
  },
  {
   "cell_type": "code",
   "execution_count": 64,
   "metadata": {},
   "outputs": [],
   "source": [
    "#df_drop_dup['goal'].hist()\n",
    "df_drop_dup = df_drop_dup[df_drop_dup['goal'] <= 10000000]"
   ]
  },
  {
   "cell_type": "code",
   "execution_count": 65,
   "metadata": {},
   "outputs": [],
   "source": [
    "df_drop_dup = df_drop_dup[df_drop_dup['duration_start_launch'] <= 1000]"
   ]
  },
  {
   "cell_type": "code",
   "execution_count": 66,
   "metadata": {},
   "outputs": [],
   "source": [
    "df_dummies = pd.get_dummies(df_drop_dup, columns=['country', 'currency', 'category_name', 'month'], drop_first=True)"
   ]
  },
  {
   "cell_type": "code",
   "execution_count": 67,
   "metadata": {},
   "outputs": [],
   "source": [
    "features_dummies = list(df_dummies.columns)\n",
    "features = list(df.columns)\n",
    "for i in ['id', 'slug', 'source_url', 'urls',\n",
    "        'usd_pledged', 'city']:\n",
    "    features_dummies.remove(i)\n",
    "    features.remove(i)"
   ]
  },
  {
   "cell_type": "markdown",
   "metadata": {},
   "source": [
    "## Profile report"
   ]
  },
  {
   "cell_type": "code",
   "execution_count": 68,
   "metadata": {},
   "outputs": [],
   "source": [
    "#from pandas_profiling import ProfileReport\n",
    "##profile = ProfileReport(df[features], title=\"Pandas Profiling Report\", explorative=True)\n",
    "#profile"
   ]
  },
  {
   "cell_type": "markdown",
   "metadata": {},
   "source": [
    "## Baseline model"
   ]
  },
  {
   "cell_type": "markdown",
   "metadata": {},
   "source": [
    "## Simple Decision Tree Model"
   ]
  },
  {
   "cell_type": "code",
   "execution_count": 69,
   "metadata": {},
   "outputs": [],
   "source": [
    "%run Helper_methods.ipynb    "
   ]
  },
  {
   "cell_type": "code",
   "execution_count": 70,
   "metadata": {},
   "outputs": [],
   "source": [
    "X = df[['name_length']]\n",
    "y = np.array(df['successful'])\n",
    "train, test, train_label, test_label = train_test_split(X, y, stratify=y, \n",
    "                    random_state=RSEED, test_size=0.3)"
   ]
  },
  {
   "cell_type": "code",
   "execution_count": 71,
   "metadata": {},
   "outputs": [],
   "source": [
    "from sklearn.tree import DecisionTreeClassifier\n",
    "clf = DecisionTreeClassifier()\n",
    "clf.fit(train, train_label)\n",
    "y_pred = clf.predict(test)"
   ]
  },
  {
   "cell_type": "code",
   "execution_count": 72,
   "metadata": {},
   "outputs": [
    {
     "name": "stdout",
     "output_type": "stream",
     "text": [
      "accuracy_score 0.6168182211829912\n",
      "f1-score 0.7424113640333002\n",
      "[[ 3731 18814]\n",
      " [ 3309 31881]]\n",
      "Confusion matrix, without normalization\n",
      "[[ 3731 18814]\n",
      " [ 3309 31881]]\n"
     ]
    },
    {
     "data": {
      "image/png": "[encoded data removed]",
      "text/plain": [
       "<Figure size 720x720 with 2 Axes>"
      ]
     },
     "metadata": {
      "needs_background": "light"
     },
     "output_type": "display_data"
    }
   ],
   "source": [
    "print('accuracy_score', accuracy_score(test_label, y_pred))\n",
    "print('f1-score', f1_score(test_label, y_pred))\n",
    "cm = confusion_matrix(test_label, y_pred)\n",
    "print(cm)\n",
    "plot_confusion_matrix(\n",
    "    cm, classes=['Fail', 'Success'], \n",
    "    title='Success of Kickstarter projects (Tree)'\n",
    ")"
   ]
  },
  {
   "cell_type": "markdown",
   "metadata": {},
   "source": [
    "## Correct imbalance"
   ]
  },
  {
   "cell_type": "code",
   "execution_count": 73,
   "metadata": {},
   "outputs": [],
   "source": [
    "X = df_dummies[features_dummies].drop('successful',axis=1)\n",
    "y = np.array(df_dummies['successful'])"
   ]
  },
  {
   "cell_type": "code",
   "execution_count": 74,
   "metadata": {},
   "outputs": [],
   "source": [
    "oversample = RandomOverSampler(sampling_strategy='minority', random_state=RSEED)\n",
    "X_over, y_over = oversample.fit_resample(X, y)\n",
    "train, test, train_label, test_label = train_test_split(X_over, y_over, stratify=y_over, \n",
    "                    random_state=RSEED, test_size=0.3)"
   ]
  },
  {
   "cell_type": "code",
   "execution_count": 75,
   "metadata": {},
   "outputs": [
    {
     "data": {
      "text/html": [
       "<div>\n",
       "<style scoped>\n",
       "    .dataframe tbody tr th:only-of-type {\n",
       "        vertical-align: middle;\n",
       "    }\n",
       "\n",
       "    .dataframe tbody tr th {\n",
       "        vertical-align: top;\n",
       "    }\n",
       "\n",
       "    .dataframe thead th {\n",
       "        text-align: right;\n",
       "    }\n",
       "</style>\n",
       "<table border=\"1\" class=\"dataframe\">\n",
       "  <thead>\n",
       "    <tr style=\"text-align: right;\">\n",
       "      <th></th>\n",
       "      <th>goal</th>\n",
       "      <th>duration</th>\n",
       "      <th>duration_start_launch</th>\n",
       "      <th>goal_per_duration</th>\n",
       "      <th>name_length</th>\n",
       "      <th>blurb_length</th>\n",
       "      <th>country_AU</th>\n",
       "      <th>country_BE</th>\n",
       "      <th>country_CA</th>\n",
       "      <th>country_CH</th>\n",
       "      <th>...</th>\n",
       "      <th>month_4</th>\n",
       "      <th>month_5</th>\n",
       "      <th>month_6</th>\n",
       "      <th>month_7</th>\n",
       "      <th>month_8</th>\n",
       "      <th>month_9</th>\n",
       "      <th>month_10</th>\n",
       "      <th>month_11</th>\n",
       "      <th>month_12</th>\n",
       "      <th>0</th>\n",
       "    </tr>\n",
       "  </thead>\n",
       "  <tbody>\n",
       "    <tr>\n",
       "      <th>0</th>\n",
       "      <td>200.0</td>\n",
       "      <td>45.000000</td>\n",
       "      <td>4.066620</td>\n",
       "      <td>4.444444</td>\n",
       "      <td>4</td>\n",
       "      <td>26</td>\n",
       "      <td>0</td>\n",
       "      <td>0</td>\n",
       "      <td>0</td>\n",
       "      <td>0</td>\n",
       "      <td>...</td>\n",
       "      <td>0</td>\n",
       "      <td>0</td>\n",
       "      <td>0</td>\n",
       "      <td>0</td>\n",
       "      <td>0</td>\n",
       "      <td>0</td>\n",
       "      <td>0</td>\n",
       "      <td>0</td>\n",
       "      <td>1</td>\n",
       "      <td>1</td>\n",
       "    </tr>\n",
       "    <tr>\n",
       "      <th>1</th>\n",
       "      <td>1000.0</td>\n",
       "      <td>30.000000</td>\n",
       "      <td>2.459491</td>\n",
       "      <td>33.333333</td>\n",
       "      <td>4</td>\n",
       "      <td>22</td>\n",
       "      <td>0</td>\n",
       "      <td>0</td>\n",
       "      <td>0</td>\n",
       "      <td>0</td>\n",
       "      <td>...</td>\n",
       "      <td>0</td>\n",
       "      <td>0</td>\n",
       "      <td>0</td>\n",
       "      <td>0</td>\n",
       "      <td>0</td>\n",
       "      <td>0</td>\n",
       "      <td>0</td>\n",
       "      <td>0</td>\n",
       "      <td>0</td>\n",
       "      <td>0</td>\n",
       "    </tr>\n",
       "    <tr>\n",
       "      <th>2</th>\n",
       "      <td>20000.0</td>\n",
       "      <td>10.958785</td>\n",
       "      <td>211.789410</td>\n",
       "      <td>1825.019882</td>\n",
       "      <td>7</td>\n",
       "      <td>22</td>\n",
       "      <td>0</td>\n",
       "      <td>0</td>\n",
       "      <td>0</td>\n",
       "      <td>0</td>\n",
       "      <td>...</td>\n",
       "      <td>0</td>\n",
       "      <td>0</td>\n",
       "      <td>0</td>\n",
       "      <td>0</td>\n",
       "      <td>0</td>\n",
       "      <td>0</td>\n",
       "      <td>0</td>\n",
       "      <td>1</td>\n",
       "      <td>0</td>\n",
       "      <td>0</td>\n",
       "    </tr>\n",
       "    <tr>\n",
       "      <th>3</th>\n",
       "      <td>14500.0</td>\n",
       "      <td>30.000000</td>\n",
       "      <td>45.005729</td>\n",
       "      <td>483.333333</td>\n",
       "      <td>5</td>\n",
       "      <td>17</td>\n",
       "      <td>0</td>\n",
       "      <td>0</td>\n",
       "      <td>0</td>\n",
       "      <td>0</td>\n",
       "      <td>...</td>\n",
       "      <td>0</td>\n",
       "      <td>0</td>\n",
       "      <td>0</td>\n",
       "      <td>0</td>\n",
       "      <td>0</td>\n",
       "      <td>1</td>\n",
       "      <td>0</td>\n",
       "      <td>0</td>\n",
       "      <td>0</td>\n",
       "      <td>0</td>\n",
       "    </tr>\n",
       "    <tr>\n",
       "      <th>4</th>\n",
       "      <td>10000.0</td>\n",
       "      <td>31.000000</td>\n",
       "      <td>22.271551</td>\n",
       "      <td>322.580645</td>\n",
       "      <td>1</td>\n",
       "      <td>9</td>\n",
       "      <td>0</td>\n",
       "      <td>0</td>\n",
       "      <td>0</td>\n",
       "      <td>0</td>\n",
       "      <td>...</td>\n",
       "      <td>0</td>\n",
       "      <td>0</td>\n",
       "      <td>1</td>\n",
       "      <td>0</td>\n",
       "      <td>0</td>\n",
       "      <td>0</td>\n",
       "      <td>0</td>\n",
       "      <td>0</td>\n",
       "      <td>0</td>\n",
       "      <td>0</td>\n",
       "    </tr>\n",
       "  </tbody>\n",
       "</table>\n",
       "<p>5 rows × 210 columns</p>\n",
       "</div>"
      ],
      "text/plain": [
       "      goal   duration  duration_start_launch  goal_per_duration  name_length  \\\n",
       "0    200.0  45.000000               4.066620           4.444444            4   \n",
       "1   1000.0  30.000000               2.459491          33.333333            4   \n",
       "2  20000.0  10.958785             211.789410        1825.019882            7   \n",
       "3  14500.0  30.000000              45.005729         483.333333            5   \n",
       "4  10000.0  31.000000              22.271551         322.580645            1   \n",
       "\n",
       "   blurb_length  country_AU  country_BE  country_CA  country_CH  ...  month_4  \\\n",
       "0            26           0           0           0           0  ...        0   \n",
       "1            22           0           0           0           0  ...        0   \n",
       "2            22           0           0           0           0  ...        0   \n",
       "3            17           0           0           0           0  ...        0   \n",
       "4             9           0           0           0           0  ...        0   \n",
       "\n",
       "   month_5  month_6  month_7  month_8  month_9  month_10  month_11  month_12  \\\n",
       "0        0        0        0        0        0         0         0         1   \n",
       "1        0        0        0        0        0         0         0         0   \n",
       "2        0        0        0        0        0         0         1         0   \n",
       "3        0        0        0        0        1         0         0         0   \n",
       "4        0        1        0        0        0         0         0         0   \n",
       "\n",
       "   0  \n",
       "0  1  \n",
       "1  0  \n",
       "2  0  \n",
       "3  0  \n",
       "4  0  \n",
       "\n",
       "[5 rows x 210 columns]"
      ]
     },
     "execution_count": 75,
     "metadata": {},
     "output_type": "execute_result"
    }
   ],
   "source": [
    "yy = pd.Series(y_over)\n",
    "df_bal = pd.concat([X_over, yy],axis=1)\n",
    "df_bal.head()"
   ]
  },
  {
   "cell_type": "code",
   "execution_count": 76,
   "metadata": {},
   "outputs": [
    {
     "data": {
      "text/plain": [
       "<AxesSubplot:>"
      ]
     },
     "execution_count": 76,
     "metadata": {},
     "output_type": "execute_result"
    },
    {
     "data": {
      "image/png": "[encoded data removed]",
      "text/plain": [
       "<Figure size 432x288 with 1 Axes>"
      ]
     },
     "metadata": {
      "needs_background": "light"
     },
     "output_type": "display_data"
    }
   ],
   "source": [
    "df_bal[df_bal['name_length'] > 5][0].hist()"
   ]
  },
  {
   "cell_type": "code",
   "execution_count": 77,
   "metadata": {},
   "outputs": [
    {
     "data": {
      "text/plain": [
       "<function matplotlib.pyplot.show(close=None, block=None)>"
      ]
     },
     "execution_count": 77,
     "metadata": {},
     "output_type": "execute_result"
    },
    {
     "data": {
      "image/png": "[encoded data removed]",
      "text/plain": [
       "<Figure size 432x288 with 1 Axes>"
      ]
     },
     "metadata": {
      "needs_background": "light"
     },
     "output_type": "display_data"
    }
   ],
   "source": [
    "ax = sns.countplot(data=df_bal, x=\"name_length\", hue=0)\n",
    "ax.set(xlabel= 'Titel length', ylabel='Count')\n",
    "legend_labels, _= ax.get_legend_handles_labels()\n",
    "ax.legend(legend_labels, ['Failure','Success'])#, bbox_to_anchor=(1,1))\n",
    "plt.show"
   ]
  },
  {
   "cell_type": "markdown",
   "metadata": {},
   "source": [
    "## Simple Tree model"
   ]
  },
  {
   "cell_type": "code",
   "execution_count": 78,
   "metadata": {},
   "outputs": [
    {
     "name": "stdout",
     "output_type": "stream",
     "text": [
      "accuracy_score 0.7776834359300927\n",
      "f1-score 0.7603721781574131\n",
      "Confusion matrix, without normalization\n",
      "[[24024  4242]\n",
      " [ 8326 19940]]\n"
     ]
    },
    {
     "data": {
      "image/png": "[encoded data removed]",
      "text/plain": [
       "<Figure size 720x720 with 2 Axes>"
      ]
     },
     "metadata": {
      "needs_background": "light"
     },
     "output_type": "display_data"
    }
   ],
   "source": [
    "clf_tree = DecisionTreeClassifier()\n",
    "y_pred_tree = clf_train_predict(clf_tree, train, train_label, test)\n",
    "cm = simple_metrics(test_label, y_pred_tree)\n",
    "plot_confusion_matrix(\n",
    "    cm, classes=['Fail', 'Success'], \n",
    "    title='Success of Kickstarter projects (Tree)'\n",
    ")"
   ]
  },
  {
   "cell_type": "markdown",
   "metadata": {},
   "source": [
    "Sclaing of Features"
   ]
  },
  {
   "cell_type": "code",
   "execution_count": 79,
   "metadata": {},
   "outputs": [],
   "source": [
    "scaler = StandardScaler()\n",
    "#scaler = MinMaxScaler\n",
    "col_scale = ['goal', 'duration', 'duration_start_launch', 'name_length', 'blurb_length']\n",
    "train_scaled = scaler.fit_transform(train[col_scale])\n",
    "test_scaled = scaler.transform(test[col_scale])\n",
    "# train = train.drop(col_scale, axis=1)\n",
    "# test = test.drop(col_scale, axis=1)\n",
    "\n",
    "train = np.concatenate([train_scaled, train.drop(col_scale, axis=1)], axis=1)\n",
    "test = np.concatenate([test_scaled, test.drop(col_scale, axis=1)], axis=1)\n"
   ]
  },
  {
   "cell_type": "markdown",
   "metadata": {},
   "source": [
    "## Trying different models"
   ]
  },
  {
   "cell_type": "markdown",
   "metadata": {},
   "source": [
    "1. Random Forest "
   ]
  },
  {
   "cell_type": "code",
   "execution_count": 80,
   "metadata": {},
   "outputs": [
    {
     "name": "stdout",
     "output_type": "stream",
     "text": [
      "accuracy_score 0.8227906318545248\n",
      "f1-score 0.8074794373126298\n",
      "Confusion matrix, without normalization\n",
      "[[25505  2761]\n",
      " [ 7257 21009]]\n"
     ]
    },
    {
     "data": {
      "image/png": "[encoded data removed]",
      "text/plain": [
       "<Figure size 720x720 with 2 Axes>"
      ]
     },
     "metadata": {
      "needs_background": "light"
     },
     "output_type": "display_data"
    }
   ],
   "source": [
    "from sklearn.ensemble import RandomForestClassifier\n",
    "clf_rf = RandomForestClassifier(\n",
    "    n_estimators=100,\n",
    "    max_depth=None, \n",
    "    min_samples_split=2, \n",
    "    max_features='sqrt', \n",
    "    bootstrap=True, \n",
    "    oob_score=False, \n",
    "    n_jobs=-1,\n",
    "    random_state=RSEED\n",
    ")\n",
    "y_pred_rf = clf_train_predict(clf_rf, train, train_label, test)\n",
    "cm = simple_metrics(test_label, y_pred_rf)\n",
    "plot_confusion_matrix(\n",
    "    cm, classes=['Fail', 'Success'], \n",
    "    title='Success of Kickstarter projects (Random Forest)'\n",
    ")"
   ]
  },
  {
   "cell_type": "code",
   "execution_count": 81,
   "metadata": {},
   "outputs": [
    {
     "data": {
      "text/plain": [
       "(131906, 209)"
      ]
     },
     "execution_count": 81,
     "metadata": {},
     "output_type": "execute_result"
    }
   ],
   "source": [
    "train.shape"
   ]
  },
  {
   "cell_type": "code",
   "execution_count": 82,
   "metadata": {},
   "outputs": [
    {
     "name": "stdout",
     "output_type": "stream",
     "text": [
      "0.11616605884971318:\tduration_start_launch\n",
      "0.090791288441124:\tblurb_length\n",
      "0.08655310624451375:\tgoal\n",
      "0.07204482533505759:\tduration\n",
      "0.05818656462521241:\tname_length\n",
      "0.05298893536514538:\tgoal_per_duration\n",
      "0.013913723979973711:\tcategory_name_Digital Art\n",
      "0.013128073333963335:\tcategory_name_Video Art\n",
      "0.012043838094133128:\tcategory_name_Sculpture\n",
      "0.011394245027211987:\tcategory_name_Nature\n",
      "0.010992830210362155:\tcategory_name_Robots\n",
      "0.010768557685364846:\tcategory_name_Cookbooks\n",
      "0.010412807677254105:\tcategory_name_Ceramics\n",
      "0.010381753436956345:\tcategory_name_Festivals\n",
      "0.010277402085874965:\tcategory_name_Immersive\n",
      "0.009964406709038887:\tcategory_name_Comedy\n",
      "0.009823933235349813:\tcategory_name_Musical\n",
      "0.009742050856090905:\tcategory_name_Printing\n",
      "0.009441275063118329:\tcategory_name_Stationery\n",
      "0.009304188064974125:\tcategory_name_Horror\n",
      "0.008717712535899138:\tcategory_name_Weaving\n",
      "0.0074293109813287905:\tmonth_4\n",
      "0.0073574695229786215:\tmonth_10\n",
      "0.007328253648415036:\tmonth_7\n",
      "0.007306209172303718:\tmonth_5\n",
      "0.007254848781121187:\tmonth_8\n",
      "0.007220043363855459:\tmonth_6\n",
      "0.007064899353196148:\tmonth_2\n",
      "0.006961447511602409:\tmonth_3\n",
      "0.006735053970161193:\tmonth_9\n",
      "0.006598027378926491:\tcategory_name_Mixed Media\n",
      "0.006450174020562205:\tcategory_name_DIY Electronics\n",
      "0.006424181128652475:\tcategory_name_Zines\n",
      "0.0060101864300300565:\tmonth_11\n",
      "0.005110068468034468:\tcategory_name_Webcomics\n",
      "0.005087398747685178:\tcategory_name_Couture\n",
      "0.004959735658943493:\tcategory_name_Anthologies\n",
      "0.004675148481753744:\tcurrency_SGD\n",
      "0.0046447966403125015:\tcountry_SG\n",
      "0.0046143424437706726:\tcategory_name_Academic\n",
      "0.004347518352311204:\tcategory_name_Small Batch\n",
      "0.004170942960674696:\tcategory_name_Civic Design\n",
      "0.003962482463524505:\tcategory_name_Poetry\n",
      "0.0038162847400218898:\tcategory_name_Art\n",
      "0.0037608836693780877:\tcurrency_DKK\n",
      "0.003726561871085745:\tcategory_name_Product Design\n",
      "0.003529179673284719:\tcategory_name_Classical Music\n",
      "0.0034544331858649513:\tcategory_name_Places\n",
      "0.0034495114342548705:\tcategory_name_Apparel\n",
      "0.003358563378108761:\tcategory_name_Metal\n"
     ]
    }
   ],
   "source": [
    "len(features_dummies)\n",
    "type(clf_rf.feature_importances_)\n",
    "rf_fi = [(x, y) for x,y in zip(features_dummies,clf_rf.feature_importances_)]\n",
    "rf_fi = sorted(rf_fi, key=lambda x : x[1], reverse=True)\n",
    "for i in rf_fi[0:50]:\n",
    "    print(f'{i[1]}:\\t{i[0]}')\n",
    "\n",
    "#print(rf_fi)"
   ]
  },
  {
   "cell_type": "markdown",
   "metadata": {},
   "source": [
    "2. XGBoost"
   ]
  },
  {
   "cell_type": "code",
   "execution_count": 83,
   "metadata": {},
   "outputs": [
    {
     "name": "stderr",
     "output_type": "stream",
     "text": [
      "/Users/clemensbretscher/neuefische/Kickstarter_project/.venv/lib/python3.9/site-packages/xgboost/sklearn.py:1224: UserWarning: The use of label encoder in XGBClassifier is deprecated and will be removed in a future release. To remove this warning, do the following: 1) Pass option use_label_encoder=False when constructing XGBClassifier object; and 2) Encode your labels (y) as integers starting with 0, i.e. 0, 1, 2, ..., [num_class - 1].\n",
      "  warnings.warn(label_encoder_deprecation_msg, UserWarning)\n"
     ]
    },
    {
     "name": "stdout",
     "output_type": "stream",
     "text": [
      "[17:43:41] WARNING: /private/var/folders/6c/7n7j756n25n7b2f_mzn58nww0000gn/T/pip-install-jfgd59mv/xgboost_5205fefa2366473e9ec38b9b3b014bd3/build/temp.macosx-11.2-arm64-3.9/xgboost/src/learner.cc:1115: Starting in XGBoost 1.3.0, the default evaluation metric used with the objective 'binary:logistic' was changed from 'error' to 'logloss'. Explicitly set eval_metric if you'd like to restore the old behavior.\n",
      "accuracy_score 0.7897120215099412\n",
      "f1-score 0.7788443650705064\n",
      "Confusion matrix, without normalization\n",
      "[[23711  4555]\n",
      " [ 7333 20933]]\n"
     ]
    },
    {
     "data": {
      "image/png": "[encoded data removed]",
      "text/plain": [
       "<Figure size 720x720 with 2 Axes>"
      ]
     },
     "metadata": {
      "needs_background": "light"
     },
     "output_type": "display_data"
    }
   ],
   "source": [
    "from xgboost import XGBClassifier \n",
    "clf_xgb = XGBClassifier( \n",
    "    n_estimators=100,\n",
    "    #max_depth=20, \n",
    "    n_jobs=-1\n",
    ")\n",
    "y_pred_xgb = clf_train_predict(clf_xgb, train, train_label, test)\n",
    "cm = simple_metrics(test_label, y_pred_xgb)\n",
    "plot_confusion_matrix(\n",
    "    cm, classes=['Fail', 'Success'], \n",
    "    title='Success of Kickstarter projects (XGB)'\n",
    ")"
   ]
  },
  {
   "cell_type": "markdown",
   "metadata": {},
   "source": [
    "3. Naive Bayes"
   ]
  },
  {
   "cell_type": "code",
   "execution_count": 84,
   "metadata": {},
   "outputs": [
    {
     "name": "stdout",
     "output_type": "stream",
     "text": [
      "accuracy_score 0.5156548503502442\n",
      "f1-score 0.6726757600028691\n",
      "Confusion matrix, without normalization\n",
      "[[ 1016 27250]\n",
      " [  131 28135]]\n"
     ]
    },
    {
     "data": {
      "image/png": "[encoded data removed]",
      "text/plain": [
       "<Figure size 720x720 with 2 Axes>"
      ]
     },
     "metadata": {
      "needs_background": "light"
     },
     "output_type": "display_data"
    }
   ],
   "source": [
    "from sklearn.naive_bayes import GaussianNB\n",
    "clf_gnb = GaussianNB()\n",
    "y_pred_gnb = clf_train_predict(clf_gnb, train, train_label, test)\n",
    "cm = simple_metrics(test_label, y_pred_gnb)\n",
    "plot_confusion_matrix(\n",
    "    cm, classes=['Fail', 'Success'], \n",
    "    title='Success of Kickstarter projects (Naive Bayes)'\n",
    ")"
   ]
  },
  {
   "cell_type": "markdown",
   "metadata": {},
   "source": [
    "4. SVM / SGDClassifier"
   ]
  },
  {
   "cell_type": "code",
   "execution_count": 85,
   "metadata": {},
   "outputs": [],
   "source": [
    "#SVC implementation, linear and rbf take too long (rbf took 9 min, still not finished)\n",
    "#clf_svm = SVC(kernel='rbf', C=1)\n",
    "#y_pred_svm = clf_train_predict(clf_svm, train, train_label, test)\n",
    "#cm = simple_metrics(test_label, y_pred_svm)\n",
    "#plot_confusion_matrix(\n",
    "#    cm, classes=['Fail', 'Success'], \n",
    "#    title='Success of Kickstarter projects (SVM)'\n",
    "#)\n"
   ]
  },
  {
   "cell_type": "code",
   "execution_count": 86,
   "metadata": {},
   "outputs": [
    {
     "name": "stdout",
     "output_type": "stream",
     "text": [
      "accuracy_score 0.5157432958324489\n",
      "f1-score 0.11741569411309562\n",
      "Confusion matrix, without normalization\n",
      "[[27335   931]\n",
      " [26445  1821]]\n"
     ]
    },
    {
     "data": {
      "image/png": "[encoded data removed]",
      "text/plain": [
       "<Figure size 720x720 with 2 Axes>"
      ]
     },
     "metadata": {
      "needs_background": "light"
     },
     "output_type": "display_data"
    }
   ],
   "source": [
    "#SGDClassifier (hinge = linear SVC)\n",
    "from sklearn.linear_model import SGDClassifier\n",
    "clf_sgd = SGDClassifier(loss='hinge')\n",
    "y_pred_sgd = clf_train_predict(clf_sgd, train, train_label, test)\n",
    "cm = simple_metrics(test_label, y_pred_sgd)\n",
    "plot_confusion_matrix(\n",
    "    cm, classes=['Fail', 'Success'], \n",
    "    title='Success of Kickstarter projects (SVM)'\n",
    ")"
   ]
  },
  {
   "cell_type": "markdown",
   "metadata": {},
   "source": [
    "Logistic Regression"
   ]
  },
  {
   "cell_type": "code",
   "execution_count": 87,
   "metadata": {},
   "outputs": [
    {
     "name": "stdout",
     "output_type": "stream",
     "text": [
      "accuracy_score 0.7640982098634401\n",
      "f1-score 0.7475772259236826\n",
      "Confusion matrix, without normalization\n",
      "[[23448  4818]\n",
      " [ 8518 19748]]\n"
     ]
    },
    {
     "data": {
      "image/png": "[encoded data removed]",
      "text/plain": [
       "<Figure size 720x720 with 2 Axes>"
      ]
     },
     "metadata": {
      "needs_background": "light"
     },
     "output_type": "display_data"
    }
   ],
   "source": [
    "from sklearn.linear_model import LogisticRegression\n",
    "\n",
    "clf_lr = LogisticRegression(max_iter=10000)\n",
    "y_pred_lg = clf_train_predict(clf_lr, train, train_label, test)\n",
    "cm = simple_metrics(test_label, y_pred_lg)\n",
    "plot_confusion_matrix(\n",
    "    cm, classes=['Fail', 'Success'], \n",
    "    title='Success of Kickstarter projects (SVM)'\n",
    ")\n"
   ]
  },
  {
   "cell_type": "markdown",
   "metadata": {},
   "source": [
    "## Gridsearch using Random Forests"
   ]
  },
  {
   "cell_type": "markdown",
   "metadata": {},
   "source": [
    "n_estimators=100\n",
    "max_depth=None\n",
    "min_samples_leaf=1\n",
    "min_impurity_decrease=0.0\n"
   ]
  },
  {
   "cell_type": "code",
   "execution_count": 88,
   "metadata": {},
   "outputs": [
    {
     "ename": "IndentationError",
     "evalue": "unexpected indent (467747604.py, line 2)",
     "output_type": "error",
     "traceback": [
      "\u001b[0;36m  File \u001b[0;32m\"/var/folders/6c/7n7j756n25n7b2f_mzn58nww0000gn/T/ipykernel_86814/467747604.py\"\u001b[0;36m, line \u001b[0;32m2\u001b[0m\n\u001b[0;31m    'min_impurity_decrease':[0.0, 0.05], 'max_features':['sqrt', None]}\u001b[0m\n\u001b[0m    ^\u001b[0m\n\u001b[0;31mIndentationError\u001b[0m\u001b[0;31m:\u001b[0m unexpected indent\n"
     ]
    }
   ],
   "source": [
    "#param_grid = {'n_estimators':[5, 20, 100], 'max_depth':[None, 10, 2], \n",
    "        'min_impurity_decrease':[0.0, 0.05], 'max_features':['sqrt', None]}\n",
    "\n",
    "#gs = RandomizedSearchCV(RandomForestClassifier(random_state=RSEED), param_grid, scoring='f1',\n",
    "                  cv=5, verbose=1, n_jobs=-1, n_iter=5)\n",
    "\n",
    "# Fit gridsearch object to data.. also lets see how long it takes\n",
    "\n",
    "#gs.fit(train, train_label)\n",
    "\n"
   ]
  },
  {
   "cell_type": "code",
   "execution_count": 89,
   "metadata": {},
   "outputs": [
    {
     "ename": "NameError",
     "evalue": "name 'gs' is not defined",
     "output_type": "error",
     "traceback": [
      "\u001b[0;31m---------------------------------------------------------------------------\u001b[0m",
      "\u001b[0;31mNameError\u001b[0m                                 Traceback (most recent call last)",
      "\u001b[0;32m/var/folders/6c/7n7j756n25n7b2f_mzn58nww0000gn/T/ipykernel_86814/898446140.py\u001b[0m in \u001b[0;36m<module>\u001b[0;34m\u001b[0m\n\u001b[0;32m----> 1\u001b[0;31m \u001b[0mbest_score\u001b[0m \u001b[0;34m=\u001b[0m \u001b[0mgs\u001b[0m\u001b[0;34m.\u001b[0m\u001b[0mbest_score_\u001b[0m\u001b[0;34m\u001b[0m\u001b[0;34m\u001b[0m\u001b[0m\n\u001b[0m\u001b[1;32m      2\u001b[0m \u001b[0mbest_params\u001b[0m \u001b[0;34m=\u001b[0m \u001b[0mgs\u001b[0m\u001b[0;34m.\u001b[0m\u001b[0mbest_params_\u001b[0m\u001b[0;34m\u001b[0m\u001b[0;34m\u001b[0m\u001b[0m\n\u001b[1;32m      3\u001b[0m \u001b[0mprint\u001b[0m \u001b[0;34m(\u001b[0m\u001b[0mbest_score\u001b[0m\u001b[0;34m)\u001b[0m\u001b[0;34m\u001b[0m\u001b[0;34m\u001b[0m\u001b[0m\n\u001b[1;32m      4\u001b[0m \u001b[0mprint\u001b[0m \u001b[0;34m(\u001b[0m\u001b[0mbest_params\u001b[0m\u001b[0;34m)\u001b[0m\u001b[0;34m\u001b[0m\u001b[0;34m\u001b[0m\u001b[0m\n",
      "\u001b[0;31mNameError\u001b[0m: name 'gs' is not defined"
     ]
    }
   ],
   "source": [
    "best_score = gs.best_score_\n",
    "best_params = gs.best_params_\n",
    "print (best_score)\n",
    "print (best_params)"
   ]
  },
  {
   "cell_type": "code",
   "execution_count": 90,
   "metadata": {},
   "outputs": [
    {
     "ename": "NameError",
     "evalue": "name 'gs' is not defined",
     "output_type": "error",
     "traceback": [
      "\u001b[0;31m---------------------------------------------------------------------------\u001b[0m",
      "\u001b[0;31mNameError\u001b[0m                                 Traceback (most recent call last)",
      "\u001b[0;32m/var/folders/6c/7n7j756n25n7b2f_mzn58nww0000gn/T/ipykernel_86814/2170317268.py\u001b[0m in \u001b[0;36m<module>\u001b[0;34m\u001b[0m\n\u001b[0;32m----> 1\u001b[0;31m \u001b[0mclf_rf_best\u001b[0m \u001b[0;34m=\u001b[0m \u001b[0mgs\u001b[0m\u001b[0;34m.\u001b[0m\u001b[0mbest_estimator_\u001b[0m\u001b[0;34m\u001b[0m\u001b[0;34m\u001b[0m\u001b[0m\n\u001b[0m\u001b[1;32m      2\u001b[0m \u001b[0;34m\u001b[0m\u001b[0m\n\u001b[1;32m      3\u001b[0m \u001b[0my_pred_rf_best\u001b[0m \u001b[0;34m=\u001b[0m \u001b[0mclf_train_predict\u001b[0m\u001b[0;34m(\u001b[0m\u001b[0mclf_rf_best\u001b[0m\u001b[0;34m,\u001b[0m \u001b[0mtrain\u001b[0m\u001b[0;34m,\u001b[0m \u001b[0mtrain_label\u001b[0m\u001b[0;34m,\u001b[0m \u001b[0mtest\u001b[0m\u001b[0;34m)\u001b[0m\u001b[0;34m\u001b[0m\u001b[0;34m\u001b[0m\u001b[0m\n\u001b[1;32m      4\u001b[0m \u001b[0mcm\u001b[0m \u001b[0;34m=\u001b[0m \u001b[0msimple_metrics\u001b[0m\u001b[0;34m(\u001b[0m\u001b[0mtest_label\u001b[0m\u001b[0;34m,\u001b[0m \u001b[0my_pred_rf_best\u001b[0m\u001b[0;34m)\u001b[0m\u001b[0;34m\u001b[0m\u001b[0;34m\u001b[0m\u001b[0m\n\u001b[1;32m      5\u001b[0m plot_confusion_matrix(\n",
      "\u001b[0;31mNameError\u001b[0m: name 'gs' is not defined"
     ]
    }
   ],
   "source": [
    "clf_rf_best = gs.best_estimator_\n",
    "\n",
    "y_pred_rf_best = clf_train_predict(clf_rf_best, train, train_label, test)\n",
    "cm = simple_metrics(test_label, y_pred_rf_best)\n",
    "plot_confusion_matrix(\n",
    "    cm, classes=['Fail', 'Success'], \n",
    "    title='Success of Kickstarter projects (Random Forest after GS)'\n",
    ")\n"
   ]
  },
  {
   "cell_type": "markdown",
   "metadata": {},
   "source": [
    "## Stacking"
   ]
  },
  {
   "cell_type": "markdown",
   "metadata": {},
   "source": [
    "Random forest + logistic regression + XGBoost"
   ]
  },
  {
   "cell_type": "code",
   "execution_count": 93,
   "metadata": {},
   "outputs": [
    {
     "name": "stderr",
     "output_type": "stream",
     "text": [
      "/Users/clemensbretscher/neuefische/Kickstarter_project/.venv/lib/python3.9/site-packages/xgboost/sklearn.py:1224: UserWarning: The use of label encoder in XGBClassifier is deprecated and will be removed in a future release. To remove this warning, do the following: 1) Pass option use_label_encoder=False when constructing XGBClassifier object; and 2) Encode your labels (y) as integers starting with 0, i.e. 0, 1, 2, ..., [num_class - 1].\n",
      "  warnings.warn(label_encoder_deprecation_msg, UserWarning)\n"
     ]
    },
    {
     "name": "stdout",
     "output_type": "stream",
     "text": [
      "[18:00:50] WARNING: /private/var/folders/6c/7n7j756n25n7b2f_mzn58nww0000gn/T/pip-install-jfgd59mv/xgboost_5205fefa2366473e9ec38b9b3b014bd3/build/temp.macosx-11.2-arm64-3.9/xgboost/src/learner.cc:1115: Starting in XGBoost 1.3.0, the default evaluation metric used with the objective 'binary:logistic' was changed from 'error' to 'logloss'. Explicitly set eval_metric if you'd like to restore the old behavior.\n"
     ]
    },
    {
     "name": "stderr",
     "output_type": "stream",
     "text": [
      "/Users/clemensbretscher/neuefische/Kickstarter_project/.venv/lib/python3.9/site-packages/xgboost/sklearn.py:1224: UserWarning: The use of label encoder in XGBClassifier is deprecated and will be removed in a future release. To remove this warning, do the following: 1) Pass option use_label_encoder=False when constructing XGBClassifier object; and 2) Encode your labels (y) as integers starting with 0, i.e. 0, 1, 2, ..., [num_class - 1].\n",
      "  warnings.warn(label_encoder_deprecation_msg, UserWarning)\n"
     ]
    },
    {
     "name": "stdout",
     "output_type": "stream",
     "text": [
      "[18:02:39] WARNING: /private/var/folders/6c/7n7j756n25n7b2f_mzn58nww0000gn/T/pip-install-jfgd59mv/xgboost_5205fefa2366473e9ec38b9b3b014bd3/build/temp.macosx-11.2-arm64-3.9/xgboost/src/learner.cc:1115: Starting in XGBoost 1.3.0, the default evaluation metric used with the objective 'binary:logistic' was changed from 'error' to 'logloss'. Explicitly set eval_metric if you'd like to restore the old behavior.\n"
     ]
    },
    {
     "name": "stderr",
     "output_type": "stream",
     "text": [
      "/Users/clemensbretscher/neuefische/Kickstarter_project/.venv/lib/python3.9/site-packages/xgboost/sklearn.py:1224: UserWarning: The use of label encoder in XGBClassifier is deprecated and will be removed in a future release. To remove this warning, do the following: 1) Pass option use_label_encoder=False when constructing XGBClassifier object; and 2) Encode your labels (y) as integers starting with 0, i.e. 0, 1, 2, ..., [num_class - 1].\n",
      "  warnings.warn(label_encoder_deprecation_msg, UserWarning)\n"
     ]
    },
    {
     "name": "stdout",
     "output_type": "stream",
     "text": [
      "[18:02:54] WARNING: /private/var/folders/6c/7n7j756n25n7b2f_mzn58nww0000gn/T/pip-install-jfgd59mv/xgboost_5205fefa2366473e9ec38b9b3b014bd3/build/temp.macosx-11.2-arm64-3.9/xgboost/src/learner.cc:1115: Starting in XGBoost 1.3.0, the default evaluation metric used with the objective 'binary:logistic' was changed from 'error' to 'logloss'. Explicitly set eval_metric if you'd like to restore the old behavior.\n"
     ]
    },
    {
     "name": "stderr",
     "output_type": "stream",
     "text": [
      "/Users/clemensbretscher/neuefische/Kickstarter_project/.venv/lib/python3.9/site-packages/xgboost/sklearn.py:1224: UserWarning: The use of label encoder in XGBClassifier is deprecated and will be removed in a future release. To remove this warning, do the following: 1) Pass option use_label_encoder=False when constructing XGBClassifier object; and 2) Encode your labels (y) as integers starting with 0, i.e. 0, 1, 2, ..., [num_class - 1].\n",
      "  warnings.warn(label_encoder_deprecation_msg, UserWarning)\n"
     ]
    },
    {
     "name": "stdout",
     "output_type": "stream",
     "text": [
      "[18:03:08] WARNING: /private/var/folders/6c/7n7j756n25n7b2f_mzn58nww0000gn/T/pip-install-jfgd59mv/xgboost_5205fefa2366473e9ec38b9b3b014bd3/build/temp.macosx-11.2-arm64-3.9/xgboost/src/learner.cc:1115: Starting in XGBoost 1.3.0, the default evaluation metric used with the objective 'binary:logistic' was changed from 'error' to 'logloss'. Explicitly set eval_metric if you'd like to restore the old behavior.\n"
     ]
    },
    {
     "name": "stderr",
     "output_type": "stream",
     "text": [
      "/Users/clemensbretscher/neuefische/Kickstarter_project/.venv/lib/python3.9/site-packages/xgboost/sklearn.py:1224: UserWarning: The use of label encoder in XGBClassifier is deprecated and will be removed in a future release. To remove this warning, do the following: 1) Pass option use_label_encoder=False when constructing XGBClassifier object; and 2) Encode your labels (y) as integers starting with 0, i.e. 0, 1, 2, ..., [num_class - 1].\n",
      "  warnings.warn(label_encoder_deprecation_msg, UserWarning)\n"
     ]
    },
    {
     "name": "stdout",
     "output_type": "stream",
     "text": [
      "[18:03:22] WARNING: /private/var/folders/6c/7n7j756n25n7b2f_mzn58nww0000gn/T/pip-install-jfgd59mv/xgboost_5205fefa2366473e9ec38b9b3b014bd3/build/temp.macosx-11.2-arm64-3.9/xgboost/src/learner.cc:1115: Starting in XGBoost 1.3.0, the default evaluation metric used with the objective 'binary:logistic' was changed from 'error' to 'logloss'. Explicitly set eval_metric if you'd like to restore the old behavior.\n"
     ]
    },
    {
     "name": "stderr",
     "output_type": "stream",
     "text": [
      "/Users/clemensbretscher/neuefische/Kickstarter_project/.venv/lib/python3.9/site-packages/xgboost/sklearn.py:1224: UserWarning: The use of label encoder in XGBClassifier is deprecated and will be removed in a future release. To remove this warning, do the following: 1) Pass option use_label_encoder=False when constructing XGBClassifier object; and 2) Encode your labels (y) as integers starting with 0, i.e. 0, 1, 2, ..., [num_class - 1].\n",
      "  warnings.warn(label_encoder_deprecation_msg, UserWarning)\n"
     ]
    },
    {
     "name": "stdout",
     "output_type": "stream",
     "text": [
      "[18:03:37] WARNING: /private/var/folders/6c/7n7j756n25n7b2f_mzn58nww0000gn/T/pip-install-jfgd59mv/xgboost_5205fefa2366473e9ec38b9b3b014bd3/build/temp.macosx-11.2-arm64-3.9/xgboost/src/learner.cc:1115: Starting in XGBoost 1.3.0, the default evaluation metric used with the objective 'binary:logistic' was changed from 'error' to 'logloss'. Explicitly set eval_metric if you'd like to restore the old behavior.\n",
      "accuracy_score 0.815449656831529\n",
      "f1-score 0.8048921885811532\n",
      "Confusion matrix, without normalization\n",
      "[[24579  3687]\n",
      " [ 6746 21520]]\n"
     ]
    },
    {
     "data": {
      "image/png": "[encoded data removed]",
      "text/plain": [
       "<Figure size 720x720 with 2 Axes>"
      ]
     },
     "metadata": {
      "needs_background": "light"
     },
     "output_type": "display_data"
    }
   ],
   "source": [
    "#clf_stacking = ??\n",
    "clf_stack = StackingClassifier([('Random_Forest', clf_rf),('XGB',clf_xgb),('Logistic_Regression',clf_lr)], cv=5)\n",
    "y_pred_stack = clf_train_predict(clf_stack, train, train_label, test)\n",
    "cm = simple_metrics(test_label, y_pred_stack)\n",
    "plot_confusion_matrix(\n",
    "    cm, classes=['Fail', 'Success'], \n",
    "    title='Success of Kickstarter projects (SVM)'\n",
    ")"
   ]
  },
  {
   "cell_type": "markdown",
   "metadata": {},
   "source": [
    "# Data cleaningin and feature engineering"
   ]
  },
  {
   "cell_type": "code",
   "execution_count": 50,
   "metadata": {},
   "outputs": [
    {
     "ename": "NameError",
     "evalue": "name 'coffee_features' is not defined",
     "output_type": "error",
     "traceback": [
      "\u001b[0;31m---------------------------------------------------------------------------\u001b[0m",
      "\u001b[0;31mNameError\u001b[0m                                 Traceback (most recent call last)",
      "\u001b[0;32m/var/folders/6c/7n7j756n25n7b2f_mzn58nww0000gn/T/ipykernel_84519/80938270.py\u001b[0m in \u001b[0;36m<module>\u001b[0;34m\u001b[0m\n\u001b[0;32m----> 1\u001b[0;31m \u001b[0mcoffee_features\u001b[0m\u001b[0;34m.\u001b[0m\u001b[0minfo\u001b[0m\u001b[0;34m(\u001b[0m\u001b[0;34m)\u001b[0m\u001b[0;34m\u001b[0m\u001b[0;34m\u001b[0m\u001b[0m\n\u001b[0m",
      "\u001b[0;31mNameError\u001b[0m: name 'coffee_features' is not defined"
     ]
    }
   ],
   "source": [
    "coffee_features.info()"
   ]
  },
  {
   "cell_type": "code",
   "execution_count": null,
   "metadata": {},
   "outputs": [],
   "source": [
    "#for this exercise we will only deal with numeric variables\n",
    "\n",
    "X = coffee_features.select_dtypes(['number'])"
   ]
  },
  {
   "cell_type": "markdown",
   "metadata": {},
   "source": [
    "## Splitting data for testing "
   ]
  },
  {
   "cell_type": "code",
   "execution_count": null,
   "metadata": {},
   "outputs": [],
   "source": [
    "from sklearn.model_selection import train_test_split\n",
    "\n",
    "X_train, X_test, y_train, y_test = train_test_split(X, Y, test_size=0.20, random_state=42)"
   ]
  },
  {
   "cell_type": "code",
   "execution_count": null,
   "metadata": {},
   "outputs": [],
   "source": [
    "#dropping Quakers column and unnamed\n",
    "#changing one of the altitude to log and droping the original\n",
    "X_train[\"altitude_mean_log\"] = np.log(X_train[\"altitude_mean_meters\"])\n",
    "X_train.drop(['altitude_mean_meters'], axis=1, inplace=True)\n",
    "X_train.drop(['Quakers'], axis=1, inplace=True)\n",
    "X_train.drop(['Unnamed: 0'], axis=1, inplace=True)"
   ]
  },
  {
   "cell_type": "code",
   "execution_count": null,
   "metadata": {},
   "outputs": [
    {
     "name": "stdout",
     "output_type": "stream",
     "text": [
      "<class 'pandas.core.frame.DataFrame'>\n",
      "Int64Index: 22 entries, 17 to 6\n",
      "Data columns (total 19 columns):\n",
      " #   Column                Non-Null Count  Dtype  \n",
      "---  ------                --------------  -----  \n",
      " 0   Number.of.Bags        22 non-null     int64  \n",
      " 1   Harvest.Year          22 non-null     int64  \n",
      " 2   Fragrance...Aroma     22 non-null     float64\n",
      " 3   Flavor                22 non-null     float64\n",
      " 4   Aftertaste            22 non-null     float64\n",
      " 5   Salt...Acid           22 non-null     float64\n",
      " 6   Bitter...Sweet        22 non-null     float64\n",
      " 7   Mouthfeel             22 non-null     float64\n",
      " 8   Uniform.Cup           22 non-null     float64\n",
      " 9   Clean.Cup             22 non-null     float64\n",
      " 10  Balance               22 non-null     float64\n",
      " 11  Cupper.Points         22 non-null     float64\n",
      " 12  Total.Cup.Points      22 non-null     float64\n",
      " 13  Moisture              22 non-null     float64\n",
      " 14  Category.One.Defects  22 non-null     int64  \n",
      " 15  Category.Two.Defects  22 non-null     int64  \n",
      " 16  altitude_low_meters   19 non-null     float64\n",
      " 17  altitude_high_meters  19 non-null     float64\n",
      " 18  altitude_mean_log     19 non-null     float64\n",
      "dtypes: float64(15), int64(4)\n",
      "memory usage: 3.4 KB\n"
     ]
    }
   ],
   "source": [
    "X_train.info()"
   ]
  },
  {
   "cell_type": "code",
   "execution_count": null,
   "metadata": {},
   "outputs": [],
   "source": [
    "altitude_low_meters_mean = X_train[\"altitude_low_meters\"].mean()\n",
    "altitude_high_meters_mean = X_train[\"altitude_high_meters\"].mean()\n",
    "altitude_mean_log_mean = X_train[\"altitude_mean_log\"].mean()"
   ]
  },
  {
   "cell_type": "code",
   "execution_count": null,
   "metadata": {},
   "outputs": [],
   "source": [
    "# fillna with mean.. \n",
    "X_train[\"altitude_low_meters\"] = X_train[\"altitude_low_meters\"].fillna(altitude_low_meters_mean)\n",
    "X_train[\"altitude_high_meters\"] = X_train[\"altitude_high_meters\"].fillna(altitude_high_meters_mean)\n",
    "X_train[\"altitude_mean_log\"] = X_train[\"altitude_mean_log\"].fillna(altitude_mean_log_mean)"
   ]
  },
  {
   "cell_type": "code",
   "execution_count": null,
   "metadata": {},
   "outputs": [
    {
     "name": "stdout",
     "output_type": "stream",
     "text": [
      "altitude low meters mean is 1500.3684210526317\n",
      "altitude_high_meters_mean is 1505.6315789473683\n",
      "altitude_mean_log_mean is 7.0571530664031155\n"
     ]
    }
   ],
   "source": [
    "print(f\"altitude low meters mean is {altitude_low_meters_mean}\")\n",
    "print(f\"altitude_high_meters_mean is {altitude_high_meters_mean}\")\n",
    "print(f\"altitude_mean_log_mean is {altitude_mean_log_mean}\")"
   ]
  },
  {
   "cell_type": "markdown",
   "metadata": {},
   "source": [
    "## Trainining the model"
   ]
  },
  {
   "cell_type": "code",
   "execution_count": null,
   "metadata": {},
   "outputs": [],
   "source": [
    "## in order to exemplify how the predict will work.. we will save the y_train\n",
    "X_test.to_csv(\"data/X_test.csv\")\n",
    "y_test.to_csv(\"data/y_test.csv\")"
   ]
  },
  {
   "cell_type": "code",
   "execution_count": null,
   "metadata": {},
   "outputs": [],
   "source": [
    "#training the model\n",
    "from sklearn.linear_model import LinearRegression\n",
    "reg = LinearRegression().fit(X_train, y_train)"
   ]
  },
  {
   "cell_type": "code",
   "execution_count": null,
   "metadata": {},
   "outputs": [
    {
     "name": "stdout",
     "output_type": "stream",
     "text": [
      "6.701014816713759e-28\n"
     ]
    }
   ],
   "source": [
    "from sklearn.metrics import mean_squared_error\n",
    "y_train_pred = reg.predict(X_train)\n",
    "mse = mean_squared_error(y_train, y_train_pred)\n",
    "print(mse)"
   ]
  },
  {
   "cell_type": "code",
   "execution_count": null,
   "metadata": {},
   "outputs": [],
   "source": [
    "#dropping Quakers column and unnamed\n",
    "#changing one of the altitude to log and droping the original\n",
    "X_test[\"altitude_mean_log\"] = np.log(X_test[\"altitude_mean_meters\"])\n",
    "X_test.drop(['altitude_mean_meters'], axis=1, inplace=True)\n",
    "X_test.drop(['Quakers'], axis=1, inplace=True)\n",
    "X_test.drop(['Unnamed: 0'], axis=1, inplace=True)\n",
    "# fillna with mean.. \n",
    "X_test[\"altitude_low_meters\"] = X_test[\"altitude_low_meters\"].fillna(altitude_low_meters_mean)\n",
    "X_test[\"altitude_high_meters\"] = X_test[\"altitude_high_meters\"].fillna(altitude_high_meters_mean)\n",
    "X_test[\"altitude_mean_log\"] = X_test[\"altitude_mean_log\"].fillna(altitude_mean_log_mean)"
   ]
  },
  {
   "cell_type": "code",
   "execution_count": null,
   "metadata": {},
   "outputs": [
    {
     "name": "stdout",
     "output_type": "stream",
     "text": [
      "2.08680004794465e-27\n"
     ]
    }
   ],
   "source": [
    "y_test_pred = reg.predict(X_test)\n",
    "mse = mean_squared_error(y_test, y_test_pred)\n",
    "print(mse)"
   ]
  }
 ],
 "metadata": {
  "interpreter": {
   "hash": "254a97cf7884c67a47db24b484cd8474199a4e1d3e1850ce7b59137a3e7b43f7"
  },
  "kernelspec": {
   "display_name": "Python 3.9.4 64-bit ('.venv': venv)",
   "name": "python3"
  },
  "language_info": {
   "codemirror_mode": {
    "name": "ipython",
    "version": 3
   },
   "file_extension": ".py",
   "mimetype": "text/x-python",
   "name": "python",
   "nbconvert_exporter": "python",
   "pygments_lexer": "ipython3",
   "version": "3.9.4"
  }
 },
 "nbformat": 4,
 "nbformat_minor": 4
}
