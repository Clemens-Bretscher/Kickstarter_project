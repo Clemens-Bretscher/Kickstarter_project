{
 "cells": [
  {
   "cell_type": "code",
   "execution_count": 54,
   "metadata": {},
   "outputs": [],
   "source": [
    "import pandas as pd\n",
    "import numpy as np\n",
    "import warnings\n",
    "import matplotlib.pyplot as plt\n",
    "import seaborn as sns\n",
    "from pandas_profiling import ProfileReport\n",
    "\n",
    "from sklearn.model_selection import train_test_split\n",
    "from sklearn.tree import DecisionTreeClassifier\n",
    "from sklearn.metrics import f1_score, accuracy_score, confusion_matrix\n",
    "\n",
    "import imblearn\n",
    "from imblearn.over_sampling import RandomOverSampler\n",
    "\n",
    "from sklearn.svm import SVC\n",
    "from sklearn.preprocessing import StandardScaler\n",
    "from sklearn.model_selection import GridSearchCV, RandomizedSearchCV\n",
    "\n",
    "%matplotlib inline\n",
    "RSEED = 42\n",
    "\n"
   ]
  },
  {
   "cell_type": "code",
   "execution_count": 2,
   "metadata": {},
   "outputs": [
    {
     "name": "stdout",
     "output_type": "stream",
     "text": [
      "<class 'pandas.core.frame.DataFrame'>\n",
      "Int64Index: 208257 entries, 0 to 3792\n",
      "Data columns (total 37 columns):\n",
      " #   Column                    Non-Null Count   Dtype  \n",
      "---  ------                    --------------   -----  \n",
      " 0   backers_count             208257 non-null  int64  \n",
      " 1   blurb                     208249 non-null  object \n",
      " 2   category                  208257 non-null  object \n",
      " 3   converted_pledged_amount  208257 non-null  int64  \n",
      " 4   country                   208257 non-null  object \n",
      " 5   created_at                208257 non-null  int64  \n",
      " 6   creator                   208257 non-null  object \n",
      " 7   currency                  208257 non-null  object \n",
      " 8   currency_symbol           208257 non-null  object \n",
      " 9   currency_trailing_code    208257 non-null  bool   \n",
      " 10  current_currency          208257 non-null  object \n",
      " 11  deadline                  208257 non-null  int64  \n",
      " 12  disable_communication     208257 non-null  bool   \n",
      " 13  friends                   300 non-null     object \n",
      " 14  fx_rate                   208257 non-null  float64\n",
      " 15  goal                      208257 non-null  float64\n",
      " 16  id                        208257 non-null  int64  \n",
      " 17  is_backing                300 non-null     object \n",
      " 18  is_starrable              208257 non-null  bool   \n",
      " 19  is_starred                300 non-null     object \n",
      " 20  launched_at               208257 non-null  int64  \n",
      " 21  location                  208031 non-null  object \n",
      " 22  name                      208257 non-null  object \n",
      " 23  permissions               300 non-null     object \n",
      " 24  photo                     208257 non-null  object \n",
      " 25  pledged                   208257 non-null  float64\n",
      " 26  profile                   208257 non-null  object \n",
      " 27  slug                      208257 non-null  object \n",
      " 28  source_url                208257 non-null  object \n",
      " 29  spotlight                 208257 non-null  bool   \n",
      " 30  staff_pick                208257 non-null  bool   \n",
      " 31  state                     208257 non-null  object \n",
      " 32  state_changed_at          208257 non-null  int64  \n",
      " 33  static_usd_rate           208257 non-null  float64\n",
      " 34  urls                      208257 non-null  object \n",
      " 35  usd_pledged               208257 non-null  float64\n",
      " 36  usd_type                  207778 non-null  object \n",
      "dtypes: bool(5), float64(5), int64(7), object(20)\n",
      "memory usage: 53.4+ MB\n"
     ]
    }
   ],
   "source": [
    "df_raw = pd.read_csv('data/data/Kickstarter000.csv')\n",
    "for i in range(1, 55):\n",
    "    filename = 'data/data/Kickstarter0' + str(i).zfill(2) + '.csv'\n",
    "    tt = pd.read_csv(filename)\n",
    "    df_raw = pd.concat([df_raw, tt], axis=0)\n",
    "df_raw.info()"
   ]
  },
  {
   "cell_type": "code",
   "execution_count": 3,
   "metadata": {},
   "outputs": [
    {
     "data": {
      "text/plain": [
       "Index(['backers_count', 'blurb', 'category', 'converted_pledged_amount',\n",
       "       'country', 'created_at', 'creator', 'currency', 'currency_symbol',\n",
       "       'currency_trailing_code', 'current_currency', 'deadline',\n",
       "       'disable_communication', 'friends', 'fx_rate', 'goal', 'id',\n",
       "       'is_backing', 'is_starrable', 'is_starred', 'launched_at', 'location',\n",
       "       'name', 'permissions', 'photo', 'pledged', 'profile', 'slug',\n",
       "       'source_url', 'spotlight', 'staff_pick', 'state', 'state_changed_at',\n",
       "       'static_usd_rate', 'urls', 'usd_pledged', 'usd_type'],\n",
       "      dtype='object')"
      ]
     },
     "execution_count": 3,
     "metadata": {},
     "output_type": "execute_result"
    }
   ],
   "source": [
    "df_raw.columns"
   ]
  },
  {
   "cell_type": "code",
   "execution_count": 4,
   "metadata": {},
   "outputs": [],
   "source": [
    "#df_raw"
   ]
  },
  {
   "cell_type": "code",
   "execution_count": 5,
   "metadata": {},
   "outputs": [],
   "source": [
    "df = df_raw[['blurb', 'category','country', 'created_at', \n",
    "       'currency','deadline', 'goal', 'id',\n",
    "       'launched_at', 'location','name', 'slug',\n",
    "       'source_url', 'state', \n",
    "       'urls', 'usd_pledged']]"
   ]
  },
  {
   "cell_type": "code",
   "execution_count": 6,
   "metadata": {},
   "outputs": [
    {
     "name": "stderr",
     "output_type": "stream",
     "text": [
      "/Users/fklein/neuefische/day28_20211103_2nd_project/Kickstarter_project/.venv/lib/python3.9/site-packages/pandas/util/_decorators.py:311: SettingWithCopyWarning: \n",
      "A value is trying to be set on a copy of a slice from a DataFrame\n",
      "\n",
      "See the caveats in the documentation: https://pandas.pydata.org/pandas-docs/stable/user_guide/indexing.html#returning-a-view-versus-a-copy\n",
      "  return func(*args, **kwargs)\n"
     ]
    }
   ],
   "source": [
    "df.dropna(axis=0, inplace=True)"
   ]
  },
  {
   "cell_type": "code",
   "execution_count": 7,
   "metadata": {},
   "outputs": [
    {
     "name": "stderr",
     "output_type": "stream",
     "text": [
      "/Users/fklein/neuefische/day28_20211103_2nd_project/Kickstarter_project/.venv/lib/python3.9/site-packages/pandas/core/frame.py:4906: SettingWithCopyWarning: \n",
      "A value is trying to be set on a copy of a slice from a DataFrame\n",
      "\n",
      "See the caveats in the documentation: https://pandas.pydata.org/pandas-docs/stable/user_guide/indexing.html#returning-a-view-versus-a-copy\n",
      "  return super().drop(\n"
     ]
    }
   ],
   "source": [
    "# Duration the the project was online\n",
    "df.eval('duration = (deadline - launched_at)/3600/24', inplace=True)\n",
    "# Time between project creation and launchin\n",
    "df.eval('duration_start_launch = (launched_at - created_at)/3600/24', inplace=True)\n",
    "df.drop(['deadline', 'created_at', 'launched_at'], axis=1, inplace=True)\n",
    "#df.head()"
   ]
  },
  {
   "cell_type": "code",
   "execution_count": 8,
   "metadata": {},
   "outputs": [
    {
     "name": "stderr",
     "output_type": "stream",
     "text": [
      "/var/folders/z6/20813vb106nfz9y_jy2g9srm0000gn/T/ipykernel_84155/4201644507.py:3: SettingWithCopyWarning: \n",
      "A value is trying to be set on a copy of a slice from a DataFrame.\n",
      "Try using .loc[row_indexer,col_indexer] = value instead\n",
      "\n",
      "See the caveats in the documentation: https://pandas.pydata.org/pandas-docs/stable/user_guide/indexing.html#returning-a-view-versus-a-copy\n",
      "  df['category_name'] = df['category'].apply(lambda x : json.loads(x)['name'])\n"
     ]
    }
   ],
   "source": [
    "# Extract category nae\n",
    "import json\n",
    "df['category_name'] = df['category'].apply(lambda x : json.loads(x)['name'])\n",
    "df.drop('category', axis=1, inplace=True)\n",
    "#df.head()"
   ]
  },
  {
   "cell_type": "code",
   "execution_count": 9,
   "metadata": {},
   "outputs": [
    {
     "name": "stderr",
     "output_type": "stream",
     "text": [
      "/var/folders/z6/20813vb106nfz9y_jy2g9srm0000gn/T/ipykernel_84155/2960411482.py:2: SettingWithCopyWarning: \n",
      "A value is trying to be set on a copy of a slice from a DataFrame.\n",
      "Try using .loc[row_indexer,col_indexer] = value instead\n",
      "\n",
      "See the caveats in the documentation: https://pandas.pydata.org/pandas-docs/stable/user_guide/indexing.html#returning-a-view-versus-a-copy\n",
      "  df['name_length'] = df['name'].apply(lambda x : len(x.split(' ')))\n"
     ]
    }
   ],
   "source": [
    "# Get name length\n",
    "df['name_length'] = df['name'].apply(lambda x : len(x.split(' ')))\n",
    "df.drop('name', axis=1, inplace=True)"
   ]
  },
  {
   "cell_type": "code",
   "execution_count": 10,
   "metadata": {},
   "outputs": [
    {
     "name": "stderr",
     "output_type": "stream",
     "text": [
      "/var/folders/z6/20813vb106nfz9y_jy2g9srm0000gn/T/ipykernel_84155/3027176886.py:1: SettingWithCopyWarning: \n",
      "A value is trying to be set on a copy of a slice from a DataFrame.\n",
      "Try using .loc[row_indexer,col_indexer] = value instead\n",
      "\n",
      "See the caveats in the documentation: https://pandas.pydata.org/pandas-docs/stable/user_guide/indexing.html#returning-a-view-versus-a-copy\n",
      "  df['blurb_length'] = df['blurb'].apply(lambda x : len(x.split(' ')))\n"
     ]
    }
   ],
   "source": [
    "df['blurb_length'] = df['blurb'].apply(lambda x : len(x.split(' ')))\n",
    "df.drop('blurb', axis=1, inplace=True)"
   ]
  },
  {
   "cell_type": "code",
   "execution_count": 11,
   "metadata": {},
   "outputs": [
    {
     "name": "stderr",
     "output_type": "stream",
     "text": [
      "/var/folders/z6/20813vb106nfz9y_jy2g9srm0000gn/T/ipykernel_84155/1543756393.py:2: SettingWithCopyWarning: \n",
      "A value is trying to be set on a copy of a slice from a DataFrame.\n",
      "Try using .loc[row_indexer,col_indexer] = value instead\n",
      "\n",
      "See the caveats in the documentation: https://pandas.pydata.org/pandas-docs/stable/user_guide/indexing.html#returning-a-view-versus-a-copy\n",
      "  df['city'] = df['location'].map(lambda x : (x.split('\"'))[5])\n"
     ]
    }
   ],
   "source": [
    "# Extract city name\n",
    "df['city'] = df['location'].map(lambda x : (x.split('\"'))[5])\n",
    "df.drop('location', axis=1, inplace=True)"
   ]
  },
  {
   "cell_type": "code",
   "execution_count": 12,
   "metadata": {},
   "outputs": [
    {
     "name": "stderr",
     "output_type": "stream",
     "text": [
      "/var/folders/z6/20813vb106nfz9y_jy2g9srm0000gn/T/ipykernel_84155/1761087603.py:1: SettingWithCopyWarning: \n",
      "A value is trying to be set on a copy of a slice from a DataFrame.\n",
      "Try using .loc[row_indexer,col_indexer] = value instead\n",
      "\n",
      "See the caveats in the documentation: https://pandas.pydata.org/pandas-docs/stable/user_guide/indexing.html#returning-a-view-versus-a-copy\n",
      "  df['successful'] = (df['state'] == 'successful').astype(int)\n"
     ]
    }
   ],
   "source": [
    "df['successful'] = (df['state'] == 'successful').astype(int)\n",
    "df = df[~df['state'].isin(['canceled', 'live', 'suspended'])]\n",
    "df.drop('state', axis=1, inplace=True)"
   ]
  },
  {
   "cell_type": "markdown",
   "metadata": {},
   "source": [
    "## Data cleaning\n",
    "Removing duplicate rows, removing outliers, ..."
   ]
  },
  {
   "cell_type": "code",
   "execution_count": 13,
   "metadata": {},
   "outputs": [
    {
     "name": "stdout",
     "output_type": "stream",
     "text": [
      "<class 'pandas.core.frame.DataFrame'>\n",
      "Int64Index: 191573 entries, 0 to 3792\n",
      "Data columns (total 15 columns):\n",
      " #   Column                 Non-Null Count   Dtype  \n",
      "---  ------                 --------------   -----  \n",
      " 0   country                191573 non-null  object \n",
      " 1   currency               191573 non-null  object \n",
      " 2   goal                   191573 non-null  float64\n",
      " 3   id                     191573 non-null  int64  \n",
      " 4   slug                   191573 non-null  object \n",
      " 5   source_url             191573 non-null  object \n",
      " 6   urls                   191573 non-null  object \n",
      " 7   usd_pledged            191573 non-null  float64\n",
      " 8   duration               191573 non-null  float64\n",
      " 9   duration_start_launch  191573 non-null  float64\n",
      " 10  category_name          191573 non-null  object \n",
      " 11  name_length            191573 non-null  int64  \n",
      " 12  blurb_length           191573 non-null  int64  \n",
      " 13  city                   191573 non-null  object \n",
      " 14  successful             191573 non-null  int64  \n",
      "dtypes: float64(4), int64(4), object(7)\n",
      "memory usage: 23.4+ MB\n"
     ]
    }
   ],
   "source": [
    "df.info()"
   ]
  },
  {
   "cell_type": "code",
   "execution_count": 14,
   "metadata": {},
   "outputs": [],
   "source": [
    "df_drop_dup = df.drop_duplicates(subset='id', keep='last')\n",
    "#df_drop_dup.info()"
   ]
  },
  {
   "cell_type": "code",
   "execution_count": 15,
   "metadata": {},
   "outputs": [],
   "source": [
    "df_drop_dup = df_drop_dup[df_drop_dup['name_length'] <= 20]"
   ]
  },
  {
   "cell_type": "code",
   "execution_count": 16,
   "metadata": {},
   "outputs": [],
   "source": [
    "#df_drop_dup['blurb_length'].hist()\n",
    "df_drop_dup = df_drop_dup[df_drop_dup['blurb_length'] <= 40]"
   ]
  },
  {
   "cell_type": "code",
   "execution_count": 17,
   "metadata": {},
   "outputs": [],
   "source": [
    "#df_drop_dup['goal'].hist()\n",
    "df_drop_dup = df_drop_dup[df_drop_dup['goal'] <= 10000000]"
   ]
  },
  {
   "cell_type": "code",
   "execution_count": 18,
   "metadata": {},
   "outputs": [],
   "source": [
    "df_drop_dup = df_drop_dup[df_drop_dup['duration_start_launch'] <= 1000]"
   ]
  },
  {
   "cell_type": "code",
   "execution_count": 19,
   "metadata": {},
   "outputs": [],
   "source": [
    "df_dummies = pd.get_dummies(df_drop_dup, columns=['country', 'currency', 'category_name'], drop_first=True)"
   ]
  },
  {
   "cell_type": "code",
   "execution_count": 20,
   "metadata": {},
   "outputs": [],
   "source": [
    "features_dummies = list(df_dummies.columns)\n",
    "features = list(df.columns)\n",
    "for i in ['id', 'slug', 'source_url', 'urls',\n",
    "        'usd_pledged', 'city']:\n",
    "    features_dummies.remove(i)\n",
    "    features.remove(i)"
   ]
  },
  {
   "cell_type": "markdown",
   "metadata": {},
   "source": [
    "## Profile report"
   ]
  },
  {
   "cell_type": "code",
   "execution_count": 21,
   "metadata": {},
   "outputs": [],
   "source": [
    "#from pandas_profiling import ProfileReport\n",
    "##profile = ProfileReport(df[features], title=\"Pandas Profiling Report\", explorative=True)\n",
    "#profile"
   ]
  },
  {
   "cell_type": "markdown",
   "metadata": {},
   "source": [
    "## Baseline model"
   ]
  },
  {
   "cell_type": "markdown",
   "metadata": {},
   "source": [
    "## Simple Decision Tree Model"
   ]
  },
  {
   "cell_type": "code",
   "execution_count": 23,
   "metadata": {},
   "outputs": [],
   "source": [
    "%run Helper_methods.ipynb    "
   ]
  },
  {
   "cell_type": "code",
   "execution_count": 24,
   "metadata": {},
   "outputs": [],
   "source": [
    "X = df[['name_length']]\n",
    "y = np.array(df['successful'])\n",
    "train, test, train_label, test_label = train_test_split(X, y, stratify=y, \n",
    "                    random_state=RSEED, test_size=0.3)"
   ]
  },
  {
   "cell_type": "code",
   "execution_count": 25,
   "metadata": {},
   "outputs": [],
   "source": [
    "from sklearn.tree import DecisionTreeClassifier\n",
    "clf = DecisionTreeClassifier()\n",
    "clf.fit(train, train_label)\n",
    "y_pred = clf.predict(test)"
   ]
  },
  {
   "cell_type": "code",
   "execution_count": 26,
   "metadata": {},
   "outputs": [
    {
     "name": "stdout",
     "output_type": "stream",
     "text": [
      "accuracy_score 0.6160913140311804\n",
      "f1-score 0.7419958371337029\n",
      "[[ 3681 18780]\n",
      " [ 3284 31727]]\n",
      "Confusion matrix, without normalization\n",
      "[[ 3681 18780]\n",
      " [ 3284 31727]]\n"
     ]
    },
    {
     "data": {
      "image/png": "[encoded data removed]",
      "text/plain": [
       "<Figure size 720x720 with 2 Axes>"
      ]
     },
     "metadata": {
      "needs_background": "light"
     },
     "output_type": "display_data"
    }
   ],
   "source": [
    "print('accuracy_score', accuracy_score(test_label, y_pred))\n",
    "print('f1-score', f1_score(test_label, y_pred))\n",
    "cm = confusion_matrix(test_label, y_pred)\n",
    "print(cm)\n",
    "plot_confusion_matrix(\n",
    "    cm, classes=['Fail', 'Success'], \n",
    "    title='Success of Kickstarter projects (Tree)'\n",
    ")"
   ]
  },
  {
   "cell_type": "markdown",
   "metadata": {},
   "source": [
    "## Correct imbalance"
   ]
  },
  {
   "cell_type": "code",
   "execution_count": 27,
   "metadata": {},
   "outputs": [],
   "source": [
    "X = df_dummies[features_dummies].drop('successful',axis=1)\n",
    "y = np.array(df_dummies['successful'])"
   ]
  },
  {
   "cell_type": "code",
   "execution_count": 28,
   "metadata": {},
   "outputs": [],
   "source": [
    "oversample = RandomOverSampler(sampling_strategy='minority', random_state=RSEED)\n",
    "X_over, y_over = oversample.fit_resample(X, y)\n",
    "train, test, train_label, test_label = train_test_split(X_over, y_over, stratify=y_over, \n",
    "                    random_state=RSEED, test_size=0.3)"
   ]
  },
  {
   "cell_type": "code",
   "execution_count": 29,
   "metadata": {},
   "outputs": [
    {
     "data": {
      "text/html": [
       "<div>\n",
       "<style scoped>\n",
       "    .dataframe tbody tr th:only-of-type {\n",
       "        vertical-align: middle;\n",
       "    }\n",
       "\n",
       "    .dataframe tbody tr th {\n",
       "        vertical-align: top;\n",
       "    }\n",
       "\n",
       "    .dataframe thead th {\n",
       "        text-align: right;\n",
       "    }\n",
       "</style>\n",
       "<table border=\"1\" class=\"dataframe\">\n",
       "  <thead>\n",
       "    <tr style=\"text-align: right;\">\n",
       "      <th></th>\n",
       "      <th>goal</th>\n",
       "      <th>duration</th>\n",
       "      <th>duration_start_launch</th>\n",
       "      <th>name_length</th>\n",
       "      <th>blurb_length</th>\n",
       "      <th>country_AU</th>\n",
       "      <th>country_BE</th>\n",
       "      <th>country_CA</th>\n",
       "      <th>country_CH</th>\n",
       "      <th>country_DE</th>\n",
       "      <th>...</th>\n",
       "      <th>category_name_Weaving</th>\n",
       "      <th>category_name_Web</th>\n",
       "      <th>category_name_Webcomics</th>\n",
       "      <th>category_name_Webseries</th>\n",
       "      <th>category_name_Woodworking</th>\n",
       "      <th>category_name_Workshops</th>\n",
       "      <th>category_name_World Music</th>\n",
       "      <th>category_name_Young Adult</th>\n",
       "      <th>category_name_Zines</th>\n",
       "      <th>0</th>\n",
       "    </tr>\n",
       "  </thead>\n",
       "  <tbody>\n",
       "    <tr>\n",
       "      <th>0</th>\n",
       "      <td>200.0</td>\n",
       "      <td>45.000000</td>\n",
       "      <td>4.066620</td>\n",
       "      <td>4</td>\n",
       "      <td>26</td>\n",
       "      <td>0</td>\n",
       "      <td>0</td>\n",
       "      <td>0</td>\n",
       "      <td>0</td>\n",
       "      <td>0</td>\n",
       "      <td>...</td>\n",
       "      <td>0</td>\n",
       "      <td>0</td>\n",
       "      <td>0</td>\n",
       "      <td>0</td>\n",
       "      <td>0</td>\n",
       "      <td>0</td>\n",
       "      <td>0</td>\n",
       "      <td>0</td>\n",
       "      <td>0</td>\n",
       "      <td>1</td>\n",
       "    </tr>\n",
       "    <tr>\n",
       "      <th>1</th>\n",
       "      <td>1000.0</td>\n",
       "      <td>30.000000</td>\n",
       "      <td>2.459491</td>\n",
       "      <td>4</td>\n",
       "      <td>22</td>\n",
       "      <td>0</td>\n",
       "      <td>0</td>\n",
       "      <td>0</td>\n",
       "      <td>0</td>\n",
       "      <td>0</td>\n",
       "      <td>...</td>\n",
       "      <td>0</td>\n",
       "      <td>0</td>\n",
       "      <td>0</td>\n",
       "      <td>0</td>\n",
       "      <td>0</td>\n",
       "      <td>0</td>\n",
       "      <td>0</td>\n",
       "      <td>0</td>\n",
       "      <td>0</td>\n",
       "      <td>0</td>\n",
       "    </tr>\n",
       "    <tr>\n",
       "      <th>2</th>\n",
       "      <td>20000.0</td>\n",
       "      <td>10.958785</td>\n",
       "      <td>211.789410</td>\n",
       "      <td>7</td>\n",
       "      <td>22</td>\n",
       "      <td>0</td>\n",
       "      <td>0</td>\n",
       "      <td>0</td>\n",
       "      <td>0</td>\n",
       "      <td>0</td>\n",
       "      <td>...</td>\n",
       "      <td>0</td>\n",
       "      <td>0</td>\n",
       "      <td>0</td>\n",
       "      <td>0</td>\n",
       "      <td>0</td>\n",
       "      <td>0</td>\n",
       "      <td>0</td>\n",
       "      <td>0</td>\n",
       "      <td>0</td>\n",
       "      <td>0</td>\n",
       "    </tr>\n",
       "    <tr>\n",
       "      <th>3</th>\n",
       "      <td>14500.0</td>\n",
       "      <td>30.000000</td>\n",
       "      <td>45.005729</td>\n",
       "      <td>5</td>\n",
       "      <td>17</td>\n",
       "      <td>0</td>\n",
       "      <td>0</td>\n",
       "      <td>0</td>\n",
       "      <td>0</td>\n",
       "      <td>0</td>\n",
       "      <td>...</td>\n",
       "      <td>0</td>\n",
       "      <td>0</td>\n",
       "      <td>0</td>\n",
       "      <td>0</td>\n",
       "      <td>0</td>\n",
       "      <td>0</td>\n",
       "      <td>0</td>\n",
       "      <td>0</td>\n",
       "      <td>0</td>\n",
       "      <td>0</td>\n",
       "    </tr>\n",
       "    <tr>\n",
       "      <th>4</th>\n",
       "      <td>10000.0</td>\n",
       "      <td>31.000000</td>\n",
       "      <td>22.271551</td>\n",
       "      <td>1</td>\n",
       "      <td>9</td>\n",
       "      <td>0</td>\n",
       "      <td>0</td>\n",
       "      <td>0</td>\n",
       "      <td>0</td>\n",
       "      <td>0</td>\n",
       "      <td>...</td>\n",
       "      <td>0</td>\n",
       "      <td>0</td>\n",
       "      <td>0</td>\n",
       "      <td>0</td>\n",
       "      <td>0</td>\n",
       "      <td>0</td>\n",
       "      <td>0</td>\n",
       "      <td>0</td>\n",
       "      <td>0</td>\n",
       "      <td>0</td>\n",
       "    </tr>\n",
       "  </tbody>\n",
       "</table>\n",
       "<p>5 rows × 198 columns</p>\n",
       "</div>"
      ],
      "text/plain": [
       "      goal   duration  duration_start_launch  name_length  blurb_length  \\\n",
       "0    200.0  45.000000               4.066620            4            26   \n",
       "1   1000.0  30.000000               2.459491            4            22   \n",
       "2  20000.0  10.958785             211.789410            7            22   \n",
       "3  14500.0  30.000000              45.005729            5            17   \n",
       "4  10000.0  31.000000              22.271551            1             9   \n",
       "\n",
       "   country_AU  country_BE  country_CA  country_CH  country_DE  ...  \\\n",
       "0           0           0           0           0           0  ...   \n",
       "1           0           0           0           0           0  ...   \n",
       "2           0           0           0           0           0  ...   \n",
       "3           0           0           0           0           0  ...   \n",
       "4           0           0           0           0           0  ...   \n",
       "\n",
       "   category_name_Weaving  category_name_Web  category_name_Webcomics  \\\n",
       "0                      0                  0                        0   \n",
       "1                      0                  0                        0   \n",
       "2                      0                  0                        0   \n",
       "3                      0                  0                        0   \n",
       "4                      0                  0                        0   \n",
       "\n",
       "   category_name_Webseries  category_name_Woodworking  \\\n",
       "0                        0                          0   \n",
       "1                        0                          0   \n",
       "2                        0                          0   \n",
       "3                        0                          0   \n",
       "4                        0                          0   \n",
       "\n",
       "   category_name_Workshops  category_name_World Music  \\\n",
       "0                        0                          0   \n",
       "1                        0                          0   \n",
       "2                        0                          0   \n",
       "3                        0                          0   \n",
       "4                        0                          0   \n",
       "\n",
       "   category_name_Young Adult  category_name_Zines  0  \n",
       "0                          0                    0  1  \n",
       "1                          0                    0  0  \n",
       "2                          0                    0  0  \n",
       "3                          0                    0  0  \n",
       "4                          0                    0  0  \n",
       "\n",
       "[5 rows x 198 columns]"
      ]
     },
     "execution_count": 29,
     "metadata": {},
     "output_type": "execute_result"
    }
   ],
   "source": [
    "yy = pd.Series(y_over)\n",
    "df_bal = pd.concat([X_over, yy],axis=1)\n",
    "df_bal.head()"
   ]
  },
  {
   "cell_type": "code",
   "execution_count": 30,
   "metadata": {},
   "outputs": [
    {
     "data": {
      "text/plain": [
       "<AxesSubplot:>"
      ]
     },
     "execution_count": 30,
     "metadata": {},
     "output_type": "execute_result"
    },
    {
     "data": {
      "image/png": "[encoded data removed]",
      "text/plain": [
       "<Figure size 432x288 with 1 Axes>"
      ]
     },
     "metadata": {
      "needs_background": "light"
     },
     "output_type": "display_data"
    }
   ],
   "source": [
    "df_bal[df_bal['name_length'] > 5][0].hist()"
   ]
  },
  {
   "cell_type": "code",
   "execution_count": 31,
   "metadata": {},
   "outputs": [
    {
     "data": {
      "text/plain": [
       "<function matplotlib.pyplot.show(close=None, block=None)>"
      ]
     },
     "execution_count": 31,
     "metadata": {},
     "output_type": "execute_result"
    },
    {
     "data": {
      "image/png": "[encoded data removed]",
      "text/plain": [
       "<Figure size 432x288 with 1 Axes>"
      ]
     },
     "metadata": {
      "needs_background": "light"
     },
     "output_type": "display_data"
    }
   ],
   "source": [
    "ax = sns.countplot(data=df_bal, x=\"name_length\", hue=0)\n",
    "ax.set(xlabel= 'Titel length', ylabel='Count')\n",
    "legend_labels, _= ax.get_legend_handles_labels()\n",
    "ax.legend(legend_labels, ['Failure','Success'])#, bbox_to_anchor=(1,1))\n",
    "plt.show"
   ]
  },
  {
   "cell_type": "markdown",
   "metadata": {},
   "source": [
    "## Simple Tree model"
   ]
  },
  {
   "cell_type": "code",
   "execution_count": 32,
   "metadata": {},
   "outputs": [
    {
     "name": "stdout",
     "output_type": "stream",
     "text": [
      "accuracy_score 0.7796288073883314\n",
      "f1-score 0.7615863500115287\n",
      "Confusion matrix, without normalization\n",
      "[[24079  4074]\n",
      " [ 8334 19818]]\n"
     ]
    },
    {
     "data": {
      "image/png": "[encoded data removed]",
      "text/plain": [
       "<Figure size 720x720 with 2 Axes>"
      ]
     },
     "metadata": {
      "needs_background": "light"
     },
     "output_type": "display_data"
    }
   ],
   "source": [
    "clf_tree = DecisionTreeClassifier()\n",
    "y_pred_tree = clf_train_predict(clf_tree, train, train_label, test)\n",
    "cm = simple_metrics(test_label, y_pred_tree)\n",
    "plot_confusion_matrix(\n",
    "    cm, classes=['Fail', 'Success'], \n",
    "    title='Success of Kickstarter projects (Tree)'\n",
    ")"
   ]
  },
  {
   "cell_type": "markdown",
   "metadata": {},
   "source": [
    "Sclaing of Features"
   ]
  },
  {
   "cell_type": "code",
   "execution_count": 42,
   "metadata": {},
   "outputs": [],
   "source": [
    "scaler = StandardScaler()\n",
    "col_scale = ['goal', 'duration', 'duration_start_launch', 'name_length', 'blurb_length']\n",
    "train = scaler.fit_transform(train[col_scale])\n",
    "test = scaler.transform(test[col_scale])"
   ]
  },
  {
   "cell_type": "markdown",
   "metadata": {},
   "source": [
    "## Trying different models"
   ]
  },
  {
   "cell_type": "markdown",
   "metadata": {},
   "source": [
    "1. Random Forest "
   ]
  },
  {
   "cell_type": "code",
   "execution_count": 43,
   "metadata": {},
   "outputs": [
    {
     "name": "stdout",
     "output_type": "stream",
     "text": [
      "accuracy_score 0.7470206908800284\n",
      "f1-score 0.7305232888115328\n",
      "Confusion matrix, without normalization\n",
      "[[22754  5399]\n",
      " [ 8845 19307]]\n"
     ]
    },
    {
     "data": {
      "image/png": "[encoded data removed]",
      "text/plain": [
       "<Figure size 720x720 with 2 Axes>"
      ]
     },
     "metadata": {
      "needs_background": "light"
     },
     "output_type": "display_data"
    }
   ],
   "source": [
    "from sklearn.ensemble import RandomForestClassifier\n",
    "clf_rf = RandomForestClassifier(\n",
    "    n_estimators=100,\n",
    "    max_depth=None, \n",
    "    min_samples_split=2, \n",
    "    max_features='sqrt', \n",
    "    bootstrap=True, \n",
    "    oob_score=False, \n",
    "    n_jobs=-1,\n",
    "    random_state=RSEED\n",
    ")\n",
    "y_pred_rf = clf_train_predict(clf_rf, train, train_label, test)\n",
    "cm = simple_metrics(test_label, y_pred_rf)\n",
    "plot_confusion_matrix(\n",
    "    cm, classes=['Fail', 'Success'], \n",
    "    title='Success of Kickstarter projects (Random Forest)'\n",
    ")"
   ]
  },
  {
   "cell_type": "code",
   "execution_count": 44,
   "metadata": {},
   "outputs": [
    {
     "name": "stdout",
     "output_type": "stream",
     "text": [
      "0.3593956182349973:\tduration_start_launch\n",
      "0.21995818176838036:\tgoal\n",
      "0.17599155776966394:\tduration\n",
      "0.1505550335852063:\tblurb_length\n",
      "0.09409960864175218:\tname_length\n"
     ]
    }
   ],
   "source": [
    "len(features_dummies)\n",
    "type(clf_rf.feature_importances_)\n",
    "rf_fi = [(x, y) for x,y in zip(features_dummies,clf_rf.feature_importances_)]\n",
    "rf_fi = sorted(rf_fi, key=lambda x : x[1], reverse=True)\n",
    "for i in rf_fi[0:15]:\n",
    "    print(f'{i[1]}:\\t{i[0]}')\n",
    "\n",
    "#print(rf_fi)"
   ]
  },
  {
   "cell_type": "markdown",
   "metadata": {},
   "source": [
    "2. XGBoost"
   ]
  },
  {
   "cell_type": "code",
   "execution_count": 45,
   "metadata": {},
   "outputs": [
    {
     "name": "stderr",
     "output_type": "stream",
     "text": [
      "/Users/clemensbretscher/neuefische/Kickstarter_project/.venv/lib/python3.9/site-packages/xgboost/sklearn.py:1224: UserWarning: The use of label encoder in XGBClassifier is deprecated and will be removed in a future release. To remove this warning, do the following: 1) Pass option use_label_encoder=False when constructing XGBClassifier object; and 2) Encode your labels (y) as integers starting with 0, i.e. 0, 1, 2, ..., [num_class - 1].\n",
      "  warnings.warn(label_encoder_deprecation_msg, UserWarning)\n"
     ]
    },
    {
     "name": "stdout",
     "output_type": "stream",
     "text": [
      "[14:44:43] WARNING: /private/var/folders/6c/7n7j756n25n7b2f_mzn58nww0000gn/T/pip-install-jfgd59mv/xgboost_5205fefa2366473e9ec38b9b3b014bd3/build/temp.macosx-11.2-arm64-3.9/xgboost/src/learner.cc:1115: Starting in XGBoost 1.3.0, the default evaluation metric used with the objective 'binary:logistic' was changed from 'error' to 'logloss'. Explicitly set eval_metric if you'd like to restore the old behavior.\n",
      "accuracy_score 0.6879850812538851\n",
      "f1-score 0.7034636418877861\n",
      "Confusion matrix, without normalization\n",
      "[[17899 10254]\n",
      " [ 7314 20838]]\n"
     ]
    },
    {
     "data": {
      "image/png": "[encoded data removed]",
      "text/plain": [
       "<Figure size 720x720 with 2 Axes>"
      ]
     },
     "metadata": {
      "needs_background": "light"
     },
     "output_type": "display_data"
    }
   ],
   "source": [
    "from xgboost import XGBClassifier \n",
    "clf_xgb = XGBClassifier( \n",
    "    n_estimators=100,\n",
    "    #max_depth=20, \n",
    "    n_jobs=-1\n",
    ")\n",
    "y_pred_xgb = clf_train_predict(clf_xgb, train, train_label, test)\n",
    "cm = simple_metrics(test_label, y_pred_xgb)\n",
    "plot_confusion_matrix(\n",
    "    cm, classes=['Fail', 'Success'], \n",
    "    title='Success of Kickstarter projects (XGB)'\n",
    ")"
   ]
  },
  {
   "cell_type": "markdown",
   "metadata": {},
   "source": [
    "3. Naive Bayes"
   ]
  },
  {
   "cell_type": "code",
   "execution_count": 46,
   "metadata": {},
   "outputs": [
    {
     "name": "stdout",
     "output_type": "stream",
     "text": [
      "accuracy_score 0.5484592842553947\n",
      "f1-score 0.6811237928007023\n",
      "Confusion matrix, without normalization\n",
      "[[ 3728 24425]\n",
      " [  999 27153]]\n"
     ]
    },
    {
     "data": {
      "image/png": "[encoded data removed]",
      "text/plain": [
       "<Figure size 720x720 with 2 Axes>"
      ]
     },
     "metadata": {
      "needs_background": "light"
     },
     "output_type": "display_data"
    }
   ],
   "source": [
    "from sklearn.naive_bayes import GaussianNB\n",
    "clf_gnb = GaussianNB()\n",
    "y_pred_gnb = clf_train_predict(clf_gnb, train, train_label, test)\n",
    "cm = simple_metrics(test_label, y_pred_gnb)\n",
    "plot_confusion_matrix(\n",
    "    cm, classes=['Fail', 'Success'], \n",
    "    title='Success of Kickstarter projects (XGB)'\n",
    ")"
   ]
  },
  {
   "cell_type": "markdown",
   "metadata": {},
   "source": [
    "4. SVM / SGDClassifier"
   ]
  },
  {
   "cell_type": "code",
   "execution_count": 47,
   "metadata": {},
   "outputs": [],
   "source": [
    "#SVC implementation, linear and rbf take too long (rbf took 9 min, still not finished)\n",
    "#clf_svm = SVC(kernel='rbf', C=1)\n",
    "#y_pred_svm = clf_train_predict(clf_svm, train, train_label, test)\n",
    "#cm = simple_metrics(test_label, y_pred_svm)\n",
    "#plot_confusion_matrix(\n",
    "#    cm, classes=['Fail', 'Success'], \n",
    "#    title='Success of Kickstarter projects (SVM)'\n",
    "#)\n"
   ]
  },
  {
   "cell_type": "code",
   "execution_count": 48,
   "metadata": {},
   "outputs": [
    {
     "name": "stdout",
     "output_type": "stream",
     "text": [
      "accuracy_score 0.6136222360358761\n",
      "f1-score 0.6444157499877412\n",
      "Confusion matrix, without normalization\n",
      "[[14837 13316]\n",
      " [ 8439 19713]]\n"
     ]
    },
    {
     "data": {
      "image/png": "[encoded data removed]",
      "text/plain": [
       "<Figure size 720x720 with 2 Axes>"
      ]
     },
     "metadata": {
      "needs_background": "light"
     },
     "output_type": "display_data"
    }
   ],
   "source": [
    "#SGDClassifier (hinge = linear SVC)\n",
    "from sklearn.linear_model import SGDClassifier\n",
    "clf_sgd = SGDClassifier(loss='hinge')\n",
    "y_pred_sgd = clf_train_predict(clf_sgd, train, train_label, test)\n",
    "cm = simple_metrics(test_label, y_pred_sgd)\n",
    "plot_confusion_matrix(\n",
    "    cm, classes=['Fail', 'Success'], \n",
    "    title='Success of Kickstarter projects (SVM)'\n",
    ")"
   ]
  },
  {
   "cell_type": "markdown",
   "metadata": {},
   "source": [
    "## Gridsearch using Random Forests"
   ]
  },
  {
   "cell_type": "code",
   "execution_count": null,
   "metadata": {},
   "outputs": [],
   "source": [
    "from sklearn.ensemble import RandomForestClassifier\n",
    "clf_rf = RandomForestClassifier(\n",
    "    n_estimators=100,\n",
    "    max_depth=None, \n",
    "    min_samples_split=2, \n",
    "    max_features='sqrt', \n",
    "    bootstrap=True, \n",
    "    oob_score=False, \n",
    "    n_jobs=-1,\n",
    "    random_state=RSEED\n",
    ")\n",
    "y_pred_rf = clf_train_predict(clf_rf, train, train_label, test)\n",
    "cm = simple_metrics(test_label, y_pred_rf)\n",
    "plot_confusion_matrix(\n",
    "    cm, classes=['Fail', 'Success'], \n",
    "    title='Success of Kickstarter projects (Random Forest)'\n",
    ")"
   ]
  },
  {
   "cell_type": "markdown",
   "metadata": {},
   "source": [
    "n_estimators=100\n",
    "max_depth=None\n",
    "min_samples_leaf=1\n",
    "min_impurity_decrease=0.0\n"
   ]
  },
  {
   "cell_type": "code",
   "execution_count": 57,
   "metadata": {},
   "outputs": [
    {
     "name": "stdout",
     "output_type": "stream",
     "text": [
      "Fitting 5 folds for each of 48 candidates, totalling 240 fits\n"
     ]
    },
    {
     "data": {
      "text/plain": [
       "GridSearchCV(cv=5, estimator=RandomForestClassifier(random_state=42), n_jobs=-1,\n",
       "             param_grid={'max_depth': [None, 10, 2],\n",
       "                         'max_features': ['sqrt', None],\n",
       "                         'min_impurity_decrease': [0.0, 0.05],\n",
       "                         'n_estimators': [5, 20, 100, 1000]},\n",
       "             scoring='f1', verbose=1)"
      ]
     },
     "execution_count": 57,
     "metadata": {},
     "output_type": "execute_result"
    }
   ],
   "source": [
    "param_grid = {'n_estimators':[5, 20, 100, 1000], 'max_depth':[None, 10, 2], \n",
    "        'min_impurity_decrease':[0.0, 0.05], 'max_features':['sqrt', None]}\n",
    "\n",
    "gs = GridSearchCV(RandomForestClassifier(random_state=RSEED), param_grid, scoring='f1',\n",
    "                  cv=5, verbose=1, n_jobs=-1)\n",
    "\n",
    "# Fit gridsearch object to data.. also lets see how long it takes\n",
    "\n",
    "gs.fit(train, train_label)\n",
    "\n"
   ]
  },
  {
   "cell_type": "code",
   "execution_count": 58,
   "metadata": {},
   "outputs": [
    {
     "name": "stdout",
     "output_type": "stream",
     "text": [
      "0.6983804952982021\n",
      "{'max_depth': 10, 'max_features': 'sqrt', 'min_impurity_decrease': 0.0, 'n_estimators': 1000}\n"
     ]
    }
   ],
   "source": [
    "best_score = gs.best_score_\n",
    "best_params = gs.best_params_\n",
    "print (best_score)\n",
    "print (best_params)"
   ]
  },
  {
   "cell_type": "code",
   "execution_count": 61,
   "metadata": {},
   "outputs": [
    {
     "name": "stdout",
     "output_type": "stream",
     "text": [
      "accuracy_score 0.6836693011277861\n",
      "f1-score 0.7034811127574209\n",
      "Confusion matrix, without normalization\n",
      "[[17366 10787]\n",
      " [ 7024 21128]]\n"
     ]
    },
    {
     "data": {
      "image/png": "[encoded data removed]",
      "text/plain": [
       "<Figure size 720x720 with 2 Axes>"
      ]
     },
     "metadata": {
      "needs_background": "light"
     },
     "output_type": "display_data"
    }
   ],
   "source": [
    "clf_rf_best = gs.best_estimator_\n",
    "\n",
    "y_pred_rf_best = clf_train_predict(clf_rf_best, train, train_label, test)\n",
    "cm = simple_metrics(test_label, y_pred_rf_best)\n",
    "plot_confusion_matrix(\n",
    "    cm, classes=['Fail', 'Success'], \n",
    "    title='Success of Kickstarter projects (Random Forest after GS)'\n",
    ")\n"
   ]
  },
  {
   "cell_type": "markdown",
   "metadata": {},
   "source": [
    "# Data cleaningin and feature engineering"
   ]
  },
  {
   "cell_type": "code",
   "execution_count": 50,
   "metadata": {},
   "outputs": [
    {
     "ename": "NameError",
     "evalue": "name 'coffee_features' is not defined",
     "output_type": "error",
     "traceback": [
      "\u001b[0;31m---------------------------------------------------------------------------\u001b[0m",
      "\u001b[0;31mNameError\u001b[0m                                 Traceback (most recent call last)",
      "\u001b[0;32m/var/folders/6c/7n7j756n25n7b2f_mzn58nww0000gn/T/ipykernel_84519/80938270.py\u001b[0m in \u001b[0;36m<module>\u001b[0;34m\u001b[0m\n\u001b[0;32m----> 1\u001b[0;31m \u001b[0mcoffee_features\u001b[0m\u001b[0;34m.\u001b[0m\u001b[0minfo\u001b[0m\u001b[0;34m(\u001b[0m\u001b[0;34m)\u001b[0m\u001b[0;34m\u001b[0m\u001b[0;34m\u001b[0m\u001b[0m\n\u001b[0m",
      "\u001b[0;31mNameError\u001b[0m: name 'coffee_features' is not defined"
     ]
    }
   ],
   "source": [
    "coffee_features.info()"
   ]
  },
  {
   "cell_type": "code",
   "execution_count": null,
   "metadata": {},
   "outputs": [],
   "source": [
    "#for this exercise we will only deal with numeric variables\n",
    "\n",
    "X = coffee_features.select_dtypes(['number'])"
   ]
  },
  {
   "cell_type": "markdown",
   "metadata": {},
   "source": [
    "## Splitting data for testing "
   ]
  },
  {
   "cell_type": "code",
   "execution_count": null,
   "metadata": {},
   "outputs": [],
   "source": [
    "from sklearn.model_selection import train_test_split\n",
    "\n",
    "X_train, X_test, y_train, y_test = train_test_split(X, Y, test_size=0.20, random_state=42)"
   ]
  },
  {
   "cell_type": "code",
   "execution_count": null,
   "metadata": {},
   "outputs": [],
   "source": [
    "#dropping Quakers column and unnamed\n",
    "#changing one of the altitude to log and droping the original\n",
    "X_train[\"altitude_mean_log\"] = np.log(X_train[\"altitude_mean_meters\"])\n",
    "X_train.drop(['altitude_mean_meters'], axis=1, inplace=True)\n",
    "X_train.drop(['Quakers'], axis=1, inplace=True)\n",
    "X_train.drop(['Unnamed: 0'], axis=1, inplace=True)"
   ]
  },
  {
   "cell_type": "code",
   "execution_count": null,
   "metadata": {},
   "outputs": [
    {
     "name": "stdout",
     "output_type": "stream",
     "text": [
      "<class 'pandas.core.frame.DataFrame'>\n",
      "Int64Index: 22 entries, 17 to 6\n",
      "Data columns (total 19 columns):\n",
      " #   Column                Non-Null Count  Dtype  \n",
      "---  ------                --------------  -----  \n",
      " 0   Number.of.Bags        22 non-null     int64  \n",
      " 1   Harvest.Year          22 non-null     int64  \n",
      " 2   Fragrance...Aroma     22 non-null     float64\n",
      " 3   Flavor                22 non-null     float64\n",
      " 4   Aftertaste            22 non-null     float64\n",
      " 5   Salt...Acid           22 non-null     float64\n",
      " 6   Bitter...Sweet        22 non-null     float64\n",
      " 7   Mouthfeel             22 non-null     float64\n",
      " 8   Uniform.Cup           22 non-null     float64\n",
      " 9   Clean.Cup             22 non-null     float64\n",
      " 10  Balance               22 non-null     float64\n",
      " 11  Cupper.Points         22 non-null     float64\n",
      " 12  Total.Cup.Points      22 non-null     float64\n",
      " 13  Moisture              22 non-null     float64\n",
      " 14  Category.One.Defects  22 non-null     int64  \n",
      " 15  Category.Two.Defects  22 non-null     int64  \n",
      " 16  altitude_low_meters   19 non-null     float64\n",
      " 17  altitude_high_meters  19 non-null     float64\n",
      " 18  altitude_mean_log     19 non-null     float64\n",
      "dtypes: float64(15), int64(4)\n",
      "memory usage: 3.4 KB\n"
     ]
    }
   ],
   "source": [
    "X_train.info()"
   ]
  },
  {
   "cell_type": "code",
   "execution_count": null,
   "metadata": {},
   "outputs": [],
   "source": [
    "altitude_low_meters_mean = X_train[\"altitude_low_meters\"].mean()\n",
    "altitude_high_meters_mean = X_train[\"altitude_high_meters\"].mean()\n",
    "altitude_mean_log_mean = X_train[\"altitude_mean_log\"].mean()"
   ]
  },
  {
   "cell_type": "code",
   "execution_count": null,
   "metadata": {},
   "outputs": [],
   "source": [
    "# fillna with mean.. \n",
    "X_train[\"altitude_low_meters\"] = X_train[\"altitude_low_meters\"].fillna(altitude_low_meters_mean)\n",
    "X_train[\"altitude_high_meters\"] = X_train[\"altitude_high_meters\"].fillna(altitude_high_meters_mean)\n",
    "X_train[\"altitude_mean_log\"] = X_train[\"altitude_mean_log\"].fillna(altitude_mean_log_mean)"
   ]
  },
  {
   "cell_type": "code",
   "execution_count": null,
   "metadata": {},
   "outputs": [
    {
     "name": "stdout",
     "output_type": "stream",
     "text": [
      "altitude low meters mean is 1500.3684210526317\n",
      "altitude_high_meters_mean is 1505.6315789473683\n",
      "altitude_mean_log_mean is 7.0571530664031155\n"
     ]
    }
   ],
   "source": [
    "print(f\"altitude low meters mean is {altitude_low_meters_mean}\")\n",
    "print(f\"altitude_high_meters_mean is {altitude_high_meters_mean}\")\n",
    "print(f\"altitude_mean_log_mean is {altitude_mean_log_mean}\")"
   ]
  },
  {
   "cell_type": "markdown",
   "metadata": {},
   "source": [
    "## Trainining the model"
   ]
  },
  {
   "cell_type": "code",
   "execution_count": null,
   "metadata": {},
   "outputs": [],
   "source": [
    "## in order to exemplify how the predict will work.. we will save the y_train\n",
    "X_test.to_csv(\"data/X_test.csv\")\n",
    "y_test.to_csv(\"data/y_test.csv\")"
   ]
  },
  {
   "cell_type": "code",
   "execution_count": null,
   "metadata": {},
   "outputs": [],
   "source": [
    "#training the model\n",
    "from sklearn.linear_model import LinearRegression\n",
    "reg = LinearRegression().fit(X_train, y_train)"
   ]
  },
  {
   "cell_type": "code",
   "execution_count": null,
   "metadata": {},
   "outputs": [
    {
     "name": "stdout",
     "output_type": "stream",
     "text": [
      "6.701014816713759e-28\n"
     ]
    }
   ],
   "source": [
    "from sklearn.metrics import mean_squared_error\n",
    "y_train_pred = reg.predict(X_train)\n",
    "mse = mean_squared_error(y_train, y_train_pred)\n",
    "print(mse)"
   ]
  },
  {
   "cell_type": "code",
   "execution_count": null,
   "metadata": {},
   "outputs": [],
   "source": [
    "#dropping Quakers column and unnamed\n",
    "#changing one of the altitude to log and droping the original\n",
    "X_test[\"altitude_mean_log\"] = np.log(X_test[\"altitude_mean_meters\"])\n",
    "X_test.drop(['altitude_mean_meters'], axis=1, inplace=True)\n",
    "X_test.drop(['Quakers'], axis=1, inplace=True)\n",
    "X_test.drop(['Unnamed: 0'], axis=1, inplace=True)\n",
    "# fillna with mean.. \n",
    "X_test[\"altitude_low_meters\"] = X_test[\"altitude_low_meters\"].fillna(altitude_low_meters_mean)\n",
    "X_test[\"altitude_high_meters\"] = X_test[\"altitude_high_meters\"].fillna(altitude_high_meters_mean)\n",
    "X_test[\"altitude_mean_log\"] = X_test[\"altitude_mean_log\"].fillna(altitude_mean_log_mean)"
   ]
  },
  {
   "cell_type": "code",
   "execution_count": null,
   "metadata": {},
   "outputs": [
    {
     "name": "stdout",
     "output_type": "stream",
     "text": [
      "2.08680004794465e-27\n"
     ]
    }
   ],
   "source": [
    "y_test_pred = reg.predict(X_test)\n",
    "mse = mean_squared_error(y_test, y_test_pred)\n",
    "print(mse)"
   ]
  }
 ],
 "metadata": {
  "interpreter": {
   "hash": "254a97cf7884c67a47db24b484cd8474199a4e1d3e1850ce7b59137a3e7b43f7"
  },
  "kernelspec": {
   "display_name": "Python 3.9.4 64-bit ('.venv': venv)",
   "name": "python3"
  },
  "language_info": {
   "codemirror_mode": {
    "name": "ipython",
    "version": 3
   },
   "file_extension": ".py",
   "mimetype": "text/x-python",
   "name": "python",
   "nbconvert_exporter": "python",
   "pygments_lexer": "ipython3",
   "version": "3.9.4"
  }
 },
 "nbformat": 4,
 "nbformat_minor": 4
}
